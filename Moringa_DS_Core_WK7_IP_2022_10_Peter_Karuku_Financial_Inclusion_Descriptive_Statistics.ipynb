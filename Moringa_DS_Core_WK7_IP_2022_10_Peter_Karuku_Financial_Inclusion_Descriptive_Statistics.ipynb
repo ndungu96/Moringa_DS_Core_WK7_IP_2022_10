{
  "nbformat": 4,
  "nbformat_minor": 0,
  "metadata": {
    "colab": {
      "provenance": [],
      "collapsed_sections": [],
      "toc_visible": true,
      "authorship_tag": "ABX9TyOPpPlNH1fAUVFYao+xLArc",
      "include_colab_link": true
    },
    "kernelspec": {
      "name": "python3",
      "display_name": "Python 3"
    },
    "language_info": {
      "name": "python"
    }
  },
  "cells": [
    {
      "cell_type": "markdown",
      "metadata": {
        "id": "view-in-github",
        "colab_type": "text"
      },
      "source": [
        "<a href=\"https://colab.research.google.com/github/ndungu96/Moringa_DS_Core_WK7_IP_2022_10/blob/main/Moringa_DS_Core_WK7_IP_2022_10_Peter_Karuku_Financial_Inclusion_Descriptive_Statistics.ipynb\" target=\"_parent\"><img src=\"https://colab.research.google.com/assets/colab-badge.svg\" alt=\"Open In Colab\"/></a>"
      ]
    },
    {
      "cell_type": "markdown",
      "source": [
        "#**Financial Inclusion Analysis**"
      ],
      "metadata": {
        "id": "8EBr1uWmIKFr"
      }
    },
    {
      "cell_type": "markdown",
      "source": [
        "##**[1] DEFINING THE QUESTION**"
      ],
      "metadata": {
        "id": "veWG5ed4IS-a"
      }
    },
    {
      "cell_type": "markdown",
      "source": [
        "###**a) Specifying the Data Analytic Question**"
      ],
      "metadata": {
        "id": "9ErejJUMJJ4q"
      }
    },
    {
      "cell_type": "markdown",
      "source": [
        "Figuring out how we can predict which individuals are most likely to have or use a bank account"
      ],
      "metadata": {
        "id": "jx1rOjfpJKTa"
      }
    },
    {
      "cell_type": "markdown",
      "source": [
        "###**b) Defining the Metric for Success**"
      ],
      "metadata": {
        "id": "AsecDItgJKk6"
      }
    },
    {
      "cell_type": "markdown",
      "source": [
        "In order to be successful in this project we should aim to:\n",
        "1. Help in providing an indication of the state of financial inclusion in Kenya, Rwanda, Tanzania, and Uganda\n",
        "2. Providing insights into some of the key demographic factors that might drive individuals’ financial outcomes."
      ],
      "metadata": {
        "id": "rnhXYm-oLR86"
      }
    },
    {
      "cell_type": "markdown",
      "source": [
        "###**c) Understanding the context** "
      ],
      "metadata": {
        "id": "En3X6ei2LcYj"
      }
    },
    {
      "cell_type": "markdown",
      "source": [
        "Financial inclusion is defined as the availability and equality of opportunities to access financial services. It refers to a process by which individuals and businesses can access appropriate, affordable, and timely financial products and services.\n",
        "\n",
        "Financial Inclusion remains one of the main obstacles to economic and human development in Africa.\n",
        "Traditionally, access to bank accounts has been regarded as an indicator of financial inclusion. Despite the proliferation of mobile money in Africa and the growth of innovative fintech solutions, banks still play a pivotal role in facilitating access to financial services. Access to bank accounts enables households to save and facilitate payments while also helping businesses build up their credit-worthiness and improve their access to other financial services. Therefore, access to bank accounts is an essential contributor to long-term economic growth."
      ],
      "metadata": {
        "id": "nDGwLdjkQt2P"
      }
    },
    {
      "cell_type": "markdown",
      "source": [
        "###**d) Recording the experimental design**"
      ],
      "metadata": {
        "id": "6BVfuzCYLcv6"
      }
    },
    {
      "cell_type": "markdown",
      "source": [
        "The following are the steps that we will take to conduct this project. They are listed below:\n",
        "\n",
        "\n",
        "\n",
        "* loading the required libraries\n",
        "* loading the data set\n",
        "* check the data\n",
        "* data preparation\n",
        "* validate the data\n",
        "* performing Exploratory Data Analysis\n",
        "* implementing the solution\n",
        "* challenging the solution\n",
        "* draw conclusions (follow-up questions)\n",
        "\n",
        "\n",
        "\n",
        "\n",
        "\n",
        "\n",
        "\n",
        "\n",
        "\n",
        "\n",
        "\n",
        "\n",
        "\n",
        "\n"
      ],
      "metadata": {
        "id": "gI_ZbRNDP1aN"
      }
    },
    {
      "cell_type": "markdown",
      "source": [
        "###**e) Data Relevance**"
      ],
      "metadata": {
        "id": "2ZAJu7reP157"
      }
    },
    {
      "cell_type": "markdown",
      "source": [
        "This data was extracted from various Finscope surveys ranging from 2016 to 2018, and more information about these surveys can be found here:\n",
        "\n",
        "* FinAccess Kenya 2018. [(link)](https://www.fsdkenya.org/blogs-publications/publications/2018-annual-report/)\n",
        "* Finscope Rwanda 2016. [(link)](http://www.statistics.gov.rw/publication/finscope-rwanda-2016)\n",
        "* Finscope Tanzania 2017. [(link)](https://www.fsdt.or.tz/finscope/)\n",
        "* Finscope Uganda 2018. [(link)](https://fsduganda.or.ug/finscope-2018-survey-report/)"
      ],
      "metadata": {
        "id": "8RvTdPKiP2K_"
      }
    },
    {
      "cell_type": "markdown",
      "source": [
        "##**[2] Importing Libraries**"
      ],
      "metadata": {
        "id": "G7rSv2qUo5tE"
      }
    },
    {
      "cell_type": "code",
      "source": [
        "#Importing pandas\n",
        "import pandas as pd\n",
        "\n",
        "# Importing Numpy\n",
        "import numpy as np\n",
        "\n",
        "# Importing Seaborn\n",
        "import seaborn as sns\n",
        "\n",
        "# Importing Matplotlib\n",
        "import matplotlib.pyplot as plt\n",
        "\n",
        "from sklearn.preprocessing import LabelEncoder\n",
        "\n",
        "from sklearn.model_selection import train_test_split\n",
        "\n",
        "from sklearn.decomposition import PCA"
      ],
      "metadata": {
        "id": "WFBUCKXTo3QF"
      },
      "execution_count": 197,
      "outputs": []
    },
    {
      "cell_type": "markdown",
      "source": [
        "##**[3] READING THE DATASET**"
      ],
      "metadata": {
        "id": "2VQmayvSP2db"
      }
    },
    {
      "cell_type": "code",
      "source": [
        "# loading our finance dataset\n",
        "\n",
        "df_fi = pd.read_csv('http://bit.ly/FinancialDataset')\n",
        "\n",
        "# previewing the table\n",
        "df_fi.head()"
      ],
      "metadata": {
        "id": "51OAQ054RR8w",
        "colab": {
          "base_uri": "https://localhost:8080/",
          "height": 426
        },
        "outputId": "22e44166-72ab-4ed7-f31f-ee2e88d698fe"
      },
      "execution_count": 198,
      "outputs": [
        {
          "output_type": "execute_result",
          "data": {
            "text/plain": [
              "  country  year    uniqueid Has a Bank account Type of Location  \\\n",
              "0   Kenya  2018  uniqueid_1                Yes            Rural   \n",
              "1   Kenya  2018  uniqueid_2                 No            Rural   \n",
              "2   Kenya  2018  uniqueid_3                Yes            Urban   \n",
              "3   Kenya  2018  uniqueid_4                 No            Rural   \n",
              "4   Kenya  2018  uniqueid_5                 No            Urban   \n",
              "\n",
              "  Cell Phone Access  household_size  Respondent Age gender_of_respondent  \\\n",
              "0               Yes             3.0            24.0               Female   \n",
              "1                No             5.0            70.0               Female   \n",
              "2               Yes             5.0            26.0                 Male   \n",
              "3               Yes             5.0            34.0               Female   \n",
              "4                No             8.0            26.0                 Male   \n",
              "\n",
              "  The relathip with head           marital_status  \\\n",
              "0                 Spouse  Married/Living together   \n",
              "1      Head of Household                  Widowed   \n",
              "2         Other relative     Single/Never Married   \n",
              "3      Head of Household  Married/Living together   \n",
              "4                  Child     Single/Never Married   \n",
              "\n",
              "               Level of Educuation                Type of Job  \n",
              "0              Secondary education              Self employed  \n",
              "1              No formal education       Government Dependent  \n",
              "2  Vocational/Specialised training              Self employed  \n",
              "3                Primary education  Formally employed Private  \n",
              "4                Primary education        Informally employed  "
            ],
            "text/html": [
              "\n",
              "  <div id=\"df-377188f9-1f2c-4275-babe-86cf0f34c346\">\n",
              "    <div class=\"colab-df-container\">\n",
              "      <div>\n",
              "<style scoped>\n",
              "    .dataframe tbody tr th:only-of-type {\n",
              "        vertical-align: middle;\n",
              "    }\n",
              "\n",
              "    .dataframe tbody tr th {\n",
              "        vertical-align: top;\n",
              "    }\n",
              "\n",
              "    .dataframe thead th {\n",
              "        text-align: right;\n",
              "    }\n",
              "</style>\n",
              "<table border=\"1\" class=\"dataframe\">\n",
              "  <thead>\n",
              "    <tr style=\"text-align: right;\">\n",
              "      <th></th>\n",
              "      <th>country</th>\n",
              "      <th>year</th>\n",
              "      <th>uniqueid</th>\n",
              "      <th>Has a Bank account</th>\n",
              "      <th>Type of Location</th>\n",
              "      <th>Cell Phone Access</th>\n",
              "      <th>household_size</th>\n",
              "      <th>Respondent Age</th>\n",
              "      <th>gender_of_respondent</th>\n",
              "      <th>The relathip with head</th>\n",
              "      <th>marital_status</th>\n",
              "      <th>Level of Educuation</th>\n",
              "      <th>Type of Job</th>\n",
              "    </tr>\n",
              "  </thead>\n",
              "  <tbody>\n",
              "    <tr>\n",
              "      <th>0</th>\n",
              "      <td>Kenya</td>\n",
              "      <td>2018</td>\n",
              "      <td>uniqueid_1</td>\n",
              "      <td>Yes</td>\n",
              "      <td>Rural</td>\n",
              "      <td>Yes</td>\n",
              "      <td>3.0</td>\n",
              "      <td>24.0</td>\n",
              "      <td>Female</td>\n",
              "      <td>Spouse</td>\n",
              "      <td>Married/Living together</td>\n",
              "      <td>Secondary education</td>\n",
              "      <td>Self employed</td>\n",
              "    </tr>\n",
              "    <tr>\n",
              "      <th>1</th>\n",
              "      <td>Kenya</td>\n",
              "      <td>2018</td>\n",
              "      <td>uniqueid_2</td>\n",
              "      <td>No</td>\n",
              "      <td>Rural</td>\n",
              "      <td>No</td>\n",
              "      <td>5.0</td>\n",
              "      <td>70.0</td>\n",
              "      <td>Female</td>\n",
              "      <td>Head of Household</td>\n",
              "      <td>Widowed</td>\n",
              "      <td>No formal education</td>\n",
              "      <td>Government Dependent</td>\n",
              "    </tr>\n",
              "    <tr>\n",
              "      <th>2</th>\n",
              "      <td>Kenya</td>\n",
              "      <td>2018</td>\n",
              "      <td>uniqueid_3</td>\n",
              "      <td>Yes</td>\n",
              "      <td>Urban</td>\n",
              "      <td>Yes</td>\n",
              "      <td>5.0</td>\n",
              "      <td>26.0</td>\n",
              "      <td>Male</td>\n",
              "      <td>Other relative</td>\n",
              "      <td>Single/Never Married</td>\n",
              "      <td>Vocational/Specialised training</td>\n",
              "      <td>Self employed</td>\n",
              "    </tr>\n",
              "    <tr>\n",
              "      <th>3</th>\n",
              "      <td>Kenya</td>\n",
              "      <td>2018</td>\n",
              "      <td>uniqueid_4</td>\n",
              "      <td>No</td>\n",
              "      <td>Rural</td>\n",
              "      <td>Yes</td>\n",
              "      <td>5.0</td>\n",
              "      <td>34.0</td>\n",
              "      <td>Female</td>\n",
              "      <td>Head of Household</td>\n",
              "      <td>Married/Living together</td>\n",
              "      <td>Primary education</td>\n",
              "      <td>Formally employed Private</td>\n",
              "    </tr>\n",
              "    <tr>\n",
              "      <th>4</th>\n",
              "      <td>Kenya</td>\n",
              "      <td>2018</td>\n",
              "      <td>uniqueid_5</td>\n",
              "      <td>No</td>\n",
              "      <td>Urban</td>\n",
              "      <td>No</td>\n",
              "      <td>8.0</td>\n",
              "      <td>26.0</td>\n",
              "      <td>Male</td>\n",
              "      <td>Child</td>\n",
              "      <td>Single/Never Married</td>\n",
              "      <td>Primary education</td>\n",
              "      <td>Informally employed</td>\n",
              "    </tr>\n",
              "  </tbody>\n",
              "</table>\n",
              "</div>\n",
              "      <button class=\"colab-df-convert\" onclick=\"convertToInteractive('df-377188f9-1f2c-4275-babe-86cf0f34c346')\"\n",
              "              title=\"Convert this dataframe to an interactive table.\"\n",
              "              style=\"display:none;\">\n",
              "        \n",
              "  <svg xmlns=\"http://www.w3.org/2000/svg\" height=\"24px\"viewBox=\"0 0 24 24\"\n",
              "       width=\"24px\">\n",
              "    <path d=\"M0 0h24v24H0V0z\" fill=\"none\"/>\n",
              "    <path d=\"M18.56 5.44l.94 2.06.94-2.06 2.06-.94-2.06-.94-.94-2.06-.94 2.06-2.06.94zm-11 1L8.5 8.5l.94-2.06 2.06-.94-2.06-.94L8.5 2.5l-.94 2.06-2.06.94zm10 10l.94 2.06.94-2.06 2.06-.94-2.06-.94-.94-2.06-.94 2.06-2.06.94z\"/><path d=\"M17.41 7.96l-1.37-1.37c-.4-.4-.92-.59-1.43-.59-.52 0-1.04.2-1.43.59L10.3 9.45l-7.72 7.72c-.78.78-.78 2.05 0 2.83L4 21.41c.39.39.9.59 1.41.59.51 0 1.02-.2 1.41-.59l7.78-7.78 2.81-2.81c.8-.78.8-2.07 0-2.86zM5.41 20L4 18.59l7.72-7.72 1.47 1.35L5.41 20z\"/>\n",
              "  </svg>\n",
              "      </button>\n",
              "      \n",
              "  <style>\n",
              "    .colab-df-container {\n",
              "      display:flex;\n",
              "      flex-wrap:wrap;\n",
              "      gap: 12px;\n",
              "    }\n",
              "\n",
              "    .colab-df-convert {\n",
              "      background-color: #E8F0FE;\n",
              "      border: none;\n",
              "      border-radius: 50%;\n",
              "      cursor: pointer;\n",
              "      display: none;\n",
              "      fill: #1967D2;\n",
              "      height: 32px;\n",
              "      padding: 0 0 0 0;\n",
              "      width: 32px;\n",
              "    }\n",
              "\n",
              "    .colab-df-convert:hover {\n",
              "      background-color: #E2EBFA;\n",
              "      box-shadow: 0px 1px 2px rgba(60, 64, 67, 0.3), 0px 1px 3px 1px rgba(60, 64, 67, 0.15);\n",
              "      fill: #174EA6;\n",
              "    }\n",
              "\n",
              "    [theme=dark] .colab-df-convert {\n",
              "      background-color: #3B4455;\n",
              "      fill: #D2E3FC;\n",
              "    }\n",
              "\n",
              "    [theme=dark] .colab-df-convert:hover {\n",
              "      background-color: #434B5C;\n",
              "      box-shadow: 0px 1px 3px 1px rgba(0, 0, 0, 0.15);\n",
              "      filter: drop-shadow(0px 1px 2px rgba(0, 0, 0, 0.3));\n",
              "      fill: #FFFFFF;\n",
              "    }\n",
              "  </style>\n",
              "\n",
              "      <script>\n",
              "        const buttonEl =\n",
              "          document.querySelector('#df-377188f9-1f2c-4275-babe-86cf0f34c346 button.colab-df-convert');\n",
              "        buttonEl.style.display =\n",
              "          google.colab.kernel.accessAllowed ? 'block' : 'none';\n",
              "\n",
              "        async function convertToInteractive(key) {\n",
              "          const element = document.querySelector('#df-377188f9-1f2c-4275-babe-86cf0f34c346');\n",
              "          const dataTable =\n",
              "            await google.colab.kernel.invokeFunction('convertToInteractive',\n",
              "                                                     [key], {});\n",
              "          if (!dataTable) return;\n",
              "\n",
              "          const docLinkHtml = 'Like what you see? Visit the ' +\n",
              "            '<a target=\"_blank\" href=https://colab.research.google.com/notebooks/data_table.ipynb>data table notebook</a>'\n",
              "            + ' to learn more about interactive tables.';\n",
              "          element.innerHTML = '';\n",
              "          dataTable['output_type'] = 'display_data';\n",
              "          await google.colab.output.renderOutput(dataTable, element);\n",
              "          const docLink = document.createElement('div');\n",
              "          docLink.innerHTML = docLinkHtml;\n",
              "          element.appendChild(docLink);\n",
              "        }\n",
              "      </script>\n",
              "    </div>\n",
              "  </div>\n",
              "  "
            ]
          },
          "metadata": {},
          "execution_count": 198
        }
      ]
    },
    {
      "cell_type": "code",
      "source": [
        "#loading the variable definitions dataset\n",
        "df_vd = pd.read_csv('http://bit.ly/VariableDefinitions')\n",
        "df_vd"
      ],
      "metadata": {
        "colab": {
          "base_uri": "https://localhost:8080/",
          "height": 426
        },
        "id": "ZqkVHSSErw1G",
        "outputId": "6579939b-05e2-4194-e3d6-a63b6d1d97f4"
      },
      "execution_count": 199,
      "outputs": [
        {
          "output_type": "execute_result",
          "data": {
            "text/plain": [
              "      Variable Definitions                                         Unnamed: 1\n",
              "0                  country                         Country interviewee is in.\n",
              "1                     year                           Year survey was done in.\n",
              "2                 uniqueid             Unique identifier for each interviewee\n",
              "3            location_type                     Type of location: Rural, Urban\n",
              "4         cellphone_access  If interviewee has access to a cellphone: Yes, No\n",
              "5           household_size               Number of people living in one house\n",
              "6        age_of_respondent                         The age of the interviewee\n",
              "7     gender_of_respondent                Gender of interviewee: Male, Female\n",
              "8   relationship_with_head  The interviewee’s relationship with the head o...\n",
              "9           marital_status  The martial status of the interviewee: Married...\n",
              "10         education_level  Highest level of education: No formal educatio...\n",
              "11                job_type  Type of job interviewee has: Farming and Fishi..."
            ],
            "text/html": [
              "\n",
              "  <div id=\"df-f0b59e4d-5ee3-465d-b257-e11396de3b2e\">\n",
              "    <div class=\"colab-df-container\">\n",
              "      <div>\n",
              "<style scoped>\n",
              "    .dataframe tbody tr th:only-of-type {\n",
              "        vertical-align: middle;\n",
              "    }\n",
              "\n",
              "    .dataframe tbody tr th {\n",
              "        vertical-align: top;\n",
              "    }\n",
              "\n",
              "    .dataframe thead th {\n",
              "        text-align: right;\n",
              "    }\n",
              "</style>\n",
              "<table border=\"1\" class=\"dataframe\">\n",
              "  <thead>\n",
              "    <tr style=\"text-align: right;\">\n",
              "      <th></th>\n",
              "      <th>Variable Definitions</th>\n",
              "      <th>Unnamed: 1</th>\n",
              "    </tr>\n",
              "  </thead>\n",
              "  <tbody>\n",
              "    <tr>\n",
              "      <th>0</th>\n",
              "      <td>country</td>\n",
              "      <td>Country interviewee is in.</td>\n",
              "    </tr>\n",
              "    <tr>\n",
              "      <th>1</th>\n",
              "      <td>year</td>\n",
              "      <td>Year survey was done in.</td>\n",
              "    </tr>\n",
              "    <tr>\n",
              "      <th>2</th>\n",
              "      <td>uniqueid</td>\n",
              "      <td>Unique identifier for each interviewee</td>\n",
              "    </tr>\n",
              "    <tr>\n",
              "      <th>3</th>\n",
              "      <td>location_type</td>\n",
              "      <td>Type of location: Rural, Urban</td>\n",
              "    </tr>\n",
              "    <tr>\n",
              "      <th>4</th>\n",
              "      <td>cellphone_access</td>\n",
              "      <td>If interviewee has access to a cellphone: Yes, No</td>\n",
              "    </tr>\n",
              "    <tr>\n",
              "      <th>5</th>\n",
              "      <td>household_size</td>\n",
              "      <td>Number of people living in one house</td>\n",
              "    </tr>\n",
              "    <tr>\n",
              "      <th>6</th>\n",
              "      <td>age_of_respondent</td>\n",
              "      <td>The age of the interviewee</td>\n",
              "    </tr>\n",
              "    <tr>\n",
              "      <th>7</th>\n",
              "      <td>gender_of_respondent</td>\n",
              "      <td>Gender of interviewee: Male, Female</td>\n",
              "    </tr>\n",
              "    <tr>\n",
              "      <th>8</th>\n",
              "      <td>relationship_with_head</td>\n",
              "      <td>The interviewee’s relationship with the head o...</td>\n",
              "    </tr>\n",
              "    <tr>\n",
              "      <th>9</th>\n",
              "      <td>marital_status</td>\n",
              "      <td>The martial status of the interviewee: Married...</td>\n",
              "    </tr>\n",
              "    <tr>\n",
              "      <th>10</th>\n",
              "      <td>education_level</td>\n",
              "      <td>Highest level of education: No formal educatio...</td>\n",
              "    </tr>\n",
              "    <tr>\n",
              "      <th>11</th>\n",
              "      <td>job_type</td>\n",
              "      <td>Type of job interviewee has: Farming and Fishi...</td>\n",
              "    </tr>\n",
              "  </tbody>\n",
              "</table>\n",
              "</div>\n",
              "      <button class=\"colab-df-convert\" onclick=\"convertToInteractive('df-f0b59e4d-5ee3-465d-b257-e11396de3b2e')\"\n",
              "              title=\"Convert this dataframe to an interactive table.\"\n",
              "              style=\"display:none;\">\n",
              "        \n",
              "  <svg xmlns=\"http://www.w3.org/2000/svg\" height=\"24px\"viewBox=\"0 0 24 24\"\n",
              "       width=\"24px\">\n",
              "    <path d=\"M0 0h24v24H0V0z\" fill=\"none\"/>\n",
              "    <path d=\"M18.56 5.44l.94 2.06.94-2.06 2.06-.94-2.06-.94-.94-2.06-.94 2.06-2.06.94zm-11 1L8.5 8.5l.94-2.06 2.06-.94-2.06-.94L8.5 2.5l-.94 2.06-2.06.94zm10 10l.94 2.06.94-2.06 2.06-.94-2.06-.94-.94-2.06-.94 2.06-2.06.94z\"/><path d=\"M17.41 7.96l-1.37-1.37c-.4-.4-.92-.59-1.43-.59-.52 0-1.04.2-1.43.59L10.3 9.45l-7.72 7.72c-.78.78-.78 2.05 0 2.83L4 21.41c.39.39.9.59 1.41.59.51 0 1.02-.2 1.41-.59l7.78-7.78 2.81-2.81c.8-.78.8-2.07 0-2.86zM5.41 20L4 18.59l7.72-7.72 1.47 1.35L5.41 20z\"/>\n",
              "  </svg>\n",
              "      </button>\n",
              "      \n",
              "  <style>\n",
              "    .colab-df-container {\n",
              "      display:flex;\n",
              "      flex-wrap:wrap;\n",
              "      gap: 12px;\n",
              "    }\n",
              "\n",
              "    .colab-df-convert {\n",
              "      background-color: #E8F0FE;\n",
              "      border: none;\n",
              "      border-radius: 50%;\n",
              "      cursor: pointer;\n",
              "      display: none;\n",
              "      fill: #1967D2;\n",
              "      height: 32px;\n",
              "      padding: 0 0 0 0;\n",
              "      width: 32px;\n",
              "    }\n",
              "\n",
              "    .colab-df-convert:hover {\n",
              "      background-color: #E2EBFA;\n",
              "      box-shadow: 0px 1px 2px rgba(60, 64, 67, 0.3), 0px 1px 3px 1px rgba(60, 64, 67, 0.15);\n",
              "      fill: #174EA6;\n",
              "    }\n",
              "\n",
              "    [theme=dark] .colab-df-convert {\n",
              "      background-color: #3B4455;\n",
              "      fill: #D2E3FC;\n",
              "    }\n",
              "\n",
              "    [theme=dark] .colab-df-convert:hover {\n",
              "      background-color: #434B5C;\n",
              "      box-shadow: 0px 1px 3px 1px rgba(0, 0, 0, 0.15);\n",
              "      filter: drop-shadow(0px 1px 2px rgba(0, 0, 0, 0.3));\n",
              "      fill: #FFFFFF;\n",
              "    }\n",
              "  </style>\n",
              "\n",
              "      <script>\n",
              "        const buttonEl =\n",
              "          document.querySelector('#df-f0b59e4d-5ee3-465d-b257-e11396de3b2e button.colab-df-convert');\n",
              "        buttonEl.style.display =\n",
              "          google.colab.kernel.accessAllowed ? 'block' : 'none';\n",
              "\n",
              "        async function convertToInteractive(key) {\n",
              "          const element = document.querySelector('#df-f0b59e4d-5ee3-465d-b257-e11396de3b2e');\n",
              "          const dataTable =\n",
              "            await google.colab.kernel.invokeFunction('convertToInteractive',\n",
              "                                                     [key], {});\n",
              "          if (!dataTable) return;\n",
              "\n",
              "          const docLinkHtml = 'Like what you see? Visit the ' +\n",
              "            '<a target=\"_blank\" href=https://colab.research.google.com/notebooks/data_table.ipynb>data table notebook</a>'\n",
              "            + ' to learn more about interactive tables.';\n",
              "          element.innerHTML = '';\n",
              "          dataTable['output_type'] = 'display_data';\n",
              "          await google.colab.output.renderOutput(dataTable, element);\n",
              "          const docLink = document.createElement('div');\n",
              "          docLink.innerHTML = docLinkHtml;\n",
              "          element.appendChild(docLink);\n",
              "        }\n",
              "      </script>\n",
              "    </div>\n",
              "  </div>\n",
              "  "
            ]
          },
          "metadata": {},
          "execution_count": 199
        }
      ]
    },
    {
      "cell_type": "markdown",
      "source": [
        "##**[4] REVIEWING THE DATASET**"
      ],
      "metadata": {
        "id": "O-4MQisXRo2U"
      }
    },
    {
      "cell_type": "code",
      "source": [
        "#Checking the number of rows and columns\n",
        "\n",
        "df_fi.shape"
      ],
      "metadata": {
        "colab": {
          "base_uri": "https://localhost:8080/"
        },
        "id": "bIcU_NJ9sbtF",
        "outputId": "c52ef143-e32f-4a96-ff01-ec2429f3ee7b"
      },
      "execution_count": 200,
      "outputs": [
        {
          "output_type": "execute_result",
          "data": {
            "text/plain": [
              "(23524, 13)"
            ]
          },
          "metadata": {},
          "execution_count": 200
        }
      ]
    },
    {
      "cell_type": "markdown",
      "source": [
        "***There are 23524 rows and 13 columns***"
      ],
      "metadata": {
        "id": "u2ZpdTNWKXCP"
      }
    },
    {
      "cell_type": "code",
      "source": [
        "# Checking whether each column has an appropriate datatype\n",
        "\n",
        "df_fi.dtypes"
      ],
      "metadata": {
        "colab": {
          "base_uri": "https://localhost:8080/"
        },
        "id": "jjCBaZ1GtHu-",
        "outputId": "bf7eae35-a383-4dbd-beaf-5c567d90f39b"
      },
      "execution_count": 201,
      "outputs": [
        {
          "output_type": "execute_result",
          "data": {
            "text/plain": [
              "country                    object\n",
              "year                        int64\n",
              "uniqueid                   object\n",
              "Has a Bank account         object\n",
              "Type of Location           object\n",
              "Cell Phone Access          object\n",
              "household_size            float64\n",
              "Respondent Age            float64\n",
              "gender_of_respondent       object\n",
              "The relathip with head     object\n",
              "marital_status             object\n",
              "Level of Educuation        object\n",
              "Type of Job                object\n",
              "dtype: object"
            ]
          },
          "metadata": {},
          "execution_count": 201
        }
      ]
    },
    {
      "cell_type": "code",
      "source": [
        "# Checking for duplicates\n",
        "\n",
        "df_fi.duplicated().any()"
      ],
      "metadata": {
        "colab": {
          "base_uri": "https://localhost:8080/"
        },
        "id": "435WoFeKvEl2",
        "outputId": "57c563aa-dd38-45e0-80f3-f74adc83880d"
      },
      "execution_count": 202,
      "outputs": [
        {
          "output_type": "execute_result",
          "data": {
            "text/plain": [
              "False"
            ]
          },
          "metadata": {},
          "execution_count": 202
        }
      ]
    },
    {
      "cell_type": "code",
      "source": [
        "# Checking for null values\n",
        "\n",
        "df_fi.isnull().sum()"
      ],
      "metadata": {
        "colab": {
          "base_uri": "https://localhost:8080/"
        },
        "id": "Rz_VX9hBvUm9",
        "outputId": "b562cbdf-707c-4aac-e859-cf8d8091e9a3"
      },
      "execution_count": 203,
      "outputs": [
        {
          "output_type": "execute_result",
          "data": {
            "text/plain": [
              "country                   14\n",
              "year                       0\n",
              "uniqueid                   0\n",
              "Has a Bank account        36\n",
              "Type of Location          15\n",
              "Cell Phone Access         11\n",
              "household_size            28\n",
              "Respondent Age            34\n",
              "gender_of_respondent      34\n",
              "The relathip with head     4\n",
              "marital_status            32\n",
              "Level of Educuation       29\n",
              "Type of Job               30\n",
              "dtype: int64"
            ]
          },
          "metadata": {},
          "execution_count": 203
        }
      ]
    },
    {
      "cell_type": "code",
      "source": [
        "# Checking how many unique values are in our columns\n",
        "\n",
        "df_fi.nunique()"
      ],
      "metadata": {
        "colab": {
          "base_uri": "https://localhost:8080/"
        },
        "id": "YEFlI1dKus3m",
        "outputId": "0e1de76a-b49b-43ad-e35f-8cf05b811ac4"
      },
      "execution_count": 204,
      "outputs": [
        {
          "output_type": "execute_result",
          "data": {
            "text/plain": [
              "country                      4\n",
              "year                         6\n",
              "uniqueid                  8735\n",
              "Has a Bank account           2\n",
              "Type of Location             2\n",
              "Cell Phone Access            2\n",
              "household_size              21\n",
              "Respondent Age              85\n",
              "gender_of_respondent         2\n",
              "The relathip with head       6\n",
              "marital_status               5\n",
              "Level of Educuation          7\n",
              "Type of Job                 10\n",
              "dtype: int64"
            ]
          },
          "metadata": {},
          "execution_count": 204
        }
      ]
    },
    {
      "cell_type": "code",
      "source": [
        "for col in df_fi.columns.to_list():\n",
        "  print(f'{col} column unique values: ')\n",
        "  print(df_fi[col].unique(), end='\\n\\n')\n",
        "  print('----------------------------------------------------------------------------------')"
      ],
      "metadata": {
        "colab": {
          "base_uri": "https://localhost:8080/"
        },
        "id": "q9OhKMX402rw",
        "outputId": "422f39dd-6b03-4f08-a95c-3e252b6db988"
      },
      "execution_count": 205,
      "outputs": [
        {
          "output_type": "stream",
          "name": "stdout",
          "text": [
            "country column unique values: \n",
            "['Kenya' 'Rwanda' 'Tanzania' nan 'Uganda']\n",
            "\n",
            "----------------------------------------------------------------------------------\n",
            "year column unique values: \n",
            "[2018 2029 2056 2016 2039 2017]\n",
            "\n",
            "----------------------------------------------------------------------------------\n",
            "uniqueid column unique values: \n",
            "['uniqueid_1' 'uniqueid_2' 'uniqueid_3' ... 'uniqueid_8757'\n",
            " 'uniqueid_8758' 'uniqueid_8759']\n",
            "\n",
            "----------------------------------------------------------------------------------\n",
            "Has a Bank account column unique values: \n",
            "['Yes' 'No' nan]\n",
            "\n",
            "----------------------------------------------------------------------------------\n",
            "Type of Location column unique values: \n",
            "['Rural' 'Urban' nan]\n",
            "\n",
            "----------------------------------------------------------------------------------\n",
            "Cell Phone Access column unique values: \n",
            "['Yes' 'No' nan]\n",
            "\n",
            "----------------------------------------------------------------------------------\n",
            "household_size column unique values: \n",
            "[ 3.  5.  8.  7.  1.  6.  4. 10.  2. 11.  9. 12. 16. 15. 13. 14. 21. nan\n",
            "  0. 18. 17. 20.]\n",
            "\n",
            "----------------------------------------------------------------------------------\n",
            "Respondent Age column unique values: \n",
            "[ 24.  70.  26.  34.  32.  42.  54.  76.  40.  69.  64.  31.  38.  47.\n",
            "  27.  48.  25.  21.  18.  22.  58.  55.  62.  29.  35.  45.  67.  19.\n",
            "  80.  66.  50.  33.  28.  51.  16.  17.  30.  37.  59.  65.  46.  56.\n",
            "  52.  23.  43.  49.  44.  72.  53.  63.  39.  81.  78.  36.  20.  60.\n",
            "  95.  71.  57.  85.  68.  41.  61.  75.  86.  73.  nan  93.  74.  88.\n",
            "  90.  77.  84.  82.  89.  79.  83.  94.  87.  92.  91.  98.  97.  96.\n",
            "  99. 100.]\n",
            "\n",
            "----------------------------------------------------------------------------------\n",
            "gender_of_respondent column unique values: \n",
            "['Female' 'Male' nan]\n",
            "\n",
            "----------------------------------------------------------------------------------\n",
            "The relathip with head column unique values: \n",
            "['Spouse' 'Head of Household' 'Other relative' 'Child' 'Parent'\n",
            " 'Other non-relatives' nan]\n",
            "\n",
            "----------------------------------------------------------------------------------\n",
            "marital_status column unique values: \n",
            "['Married/Living together' 'Widowed' 'Single/Never Married'\n",
            " 'Divorced/Seperated' 'Dont know' nan]\n",
            "\n",
            "----------------------------------------------------------------------------------\n",
            "Level of Educuation column unique values: \n",
            "['Secondary education' 'No formal education'\n",
            " 'Vocational/Specialised training' 'Primary education'\n",
            " 'Tertiary education' 'Other/Dont know/RTA' '6' nan]\n",
            "\n",
            "----------------------------------------------------------------------------------\n",
            "Type of Job column unique values: \n",
            "['Self employed' 'Government Dependent' 'Formally employed Private'\n",
            " 'Informally employed' 'Formally employed Government'\n",
            " 'Farming and Fishing' 'Remittance Dependent' 'Other Income'\n",
            " 'Dont Know/Refuse to answer' nan 'No Income']\n",
            "\n",
            "----------------------------------------------------------------------------------\n"
          ]
        }
      ]
    },
    {
      "cell_type": "markdown",
      "source": [
        "*   ***2029,2056,2039***  are anomalies in the 'year' column given that we are working with years 2016 to 2018\n",
        "*   ***0***  is an anomaly in the 'household_size' column\n",
        "*   ***'6'***  is an anomaly in the 'education_level' column\n",
        "\n"
      ],
      "metadata": {
        "id": "-lpONyw729zQ"
      }
    },
    {
      "cell_type": "code",
      "source": [
        "# Checking for Outliers\n",
        "\n",
        "columns= ['household_size', 'Respondent Age',]\n",
        "\n",
        "fig, ax = plt.subplots(len(columns), figsize=(10,15))\n",
        "\n",
        "for i, col_val in enumerate(columns):\n",
        "\n",
        "    sns.boxplot(y=df_fi[col_val], ax=ax[i])\n",
        "    ax[i].set_title('Box plot for {}'.format(col_val), fontsize=14)\n",
        "    ax[i].set_xlabel(col_val, fontsize=12)"
      ],
      "metadata": {
        "colab": {
          "base_uri": "https://localhost:8080/",
          "height": 887
        },
        "id": "qwKdHGYrvpo4",
        "outputId": "ec84bc07-2d83-48a1-87f2-15cf562cbc7c"
      },
      "execution_count": 206,
      "outputs": [
        {
          "output_type": "display_data",
          "data": {
            "text/plain": [
              "<Figure size 720x1080 with 2 Axes>"
            ],
            "image/png": "[encoded data removed]"
          },
          "metadata": {}
        }
      ]
    },
    {
      "cell_type": "markdown",
      "source": [
        "##**[5] CLEANING THE DATASET**"
      ],
      "metadata": {
        "id": "rrEMqeF9Rovt"
      }
    },
    {
      "cell_type": "code",
      "source": [
        "# Rename columns\n",
        "\n",
        "df_fi2 = df_fi.rename(columns={'Has a Bank account':'has_bankacc', 'Type of Location':'location', 'Cell Phone Access':'cellphone',  \n",
        "'Respondent Age':'age', 'gender_of_respondent': 'gender', 'The relathip with head':'r/ship_with_head', 'Level of Educuation':'level_of_education', \n",
        "'Type of Job':'type_of_job'})\n",
        "df_fi2.columns"
      ],
      "metadata": {
        "colab": {
          "base_uri": "https://localhost:8080/"
        },
        "id": "G6weh9U26URq",
        "outputId": "a29e97a0-acaf-46e3-e792-06d020148fea"
      },
      "execution_count": 207,
      "outputs": [
        {
          "output_type": "execute_result",
          "data": {
            "text/plain": [
              "Index(['country', 'year', 'uniqueid', 'has_bankacc', 'location', 'cellphone',\n",
              "       'household_size', 'age', 'gender', 'r/ship_with_head', 'marital_status',\n",
              "       'level_of_education', 'type_of_job'],\n",
              "      dtype='object')"
            ]
          },
          "metadata": {},
          "execution_count": 207
        }
      ]
    },
    {
      "cell_type": "code",
      "source": [
        "#drop 'uniqueid' column\n",
        "\n",
        "df_fi3 = df_fi2.drop(columns='uniqueid')\n",
        "df_fi3.columns"
      ],
      "metadata": {
        "colab": {
          "base_uri": "https://localhost:8080/"
        },
        "id": "DocAKSLW9TBm",
        "outputId": "b20f7983-57dc-4bf9-e755-8835526030bd"
      },
      "execution_count": 208,
      "outputs": [
        {
          "output_type": "execute_result",
          "data": {
            "text/plain": [
              "Index(['country', 'year', 'has_bankacc', 'location', 'cellphone',\n",
              "       'household_size', 'age', 'gender', 'r/ship_with_head', 'marital_status',\n",
              "       'level_of_education', 'type_of_job'],\n",
              "      dtype='object')"
            ]
          },
          "metadata": {},
          "execution_count": 208
        }
      ]
    },
    {
      "cell_type": "markdown",
      "source": [
        "*The 'uniqueid' column is not required for our data analysis*"
      ],
      "metadata": {
        "id": "dLOubHk0LKDO"
      }
    },
    {
      "cell_type": "code",
      "source": [
        "# Plotting a histogram for 'household size' column\n",
        "\n",
        "df_fi3['household_size'].plot.hist()"
      ],
      "metadata": {
        "colab": {
          "base_uri": "https://localhost:8080/",
          "height": 283
        },
        "id": "oKJ1Ql65CrrW",
        "outputId": "e5711030-911a-472a-f350-94708a7e6569"
      },
      "execution_count": 209,
      "outputs": [
        {
          "output_type": "execute_result",
          "data": {
            "text/plain": [
              "<matplotlib.axes._subplots.AxesSubplot at 0x7f4ada1e9a50>"
            ]
          },
          "metadata": {},
          "execution_count": 209
        },
        {
          "output_type": "display_data",
          "data": {
            "text/plain": [
              "<Figure size 432x288 with 1 Axes>"
            ],
            "image/png": "[encoded data removed]"
          },
          "metadata": {}
        }
      ]
    },
    {
      "cell_type": "code",
      "source": [
        "# Plotting a histogram for 'Respondent Age' column\n",
        "\n",
        "df_fi3['age'].plot.hist()"
      ],
      "metadata": {
        "colab": {
          "base_uri": "https://localhost:8080/",
          "height": 283
        },
        "id": "WxLlKa1xDHvA",
        "outputId": "0f3eb89b-35f9-4c8b-f1f0-59cca8ad2a80"
      },
      "execution_count": 210,
      "outputs": [
        {
          "output_type": "execute_result",
          "data": {
            "text/plain": [
              "<matplotlib.axes._subplots.AxesSubplot at 0x7f4ada146090>"
            ]
          },
          "metadata": {},
          "execution_count": 210
        },
        {
          "output_type": "display_data",
          "data": {
            "text/plain": [
              "<Figure size 432x288 with 1 Axes>"
            ],
            "image/png": "[encoded data removed]"
          },
          "metadata": {}
        }
      ]
    },
    {
      "cell_type": "markdown",
      "source": [
        "***After plotting both histograms, the outliers do not seem to affect the dataset. Therefore there's no need to remove them.***"
      ],
      "metadata": {
        "id": "-VFXA6Yw-65u"
      }
    },
    {
      "cell_type": "code",
      "source": [
        "df_fi3.shape"
      ],
      "metadata": {
        "colab": {
          "base_uri": "https://localhost:8080/"
        },
        "id": "pv374OUHOV3Z",
        "outputId": "c8bf7eb6-a4da-4b7d-e241-c06a7bad9fd6"
      },
      "execution_count": 211,
      "outputs": [
        {
          "output_type": "execute_result",
          "data": {
            "text/plain": [
              "(23524, 12)"
            ]
          },
          "metadata": {},
          "execution_count": 211
        }
      ]
    },
    {
      "cell_type": "code",
      "source": [
        "# Removing the anomalies in year column\n",
        "\n",
        "df_fi4 = df_fi3[df_fi3['year'].isin([2029,2056,2039])].index\n",
        "df_fi3.drop(index=df_fi4, inplace=True)"
      ],
      "metadata": {
        "id": "D20A4emi9S-f"
      },
      "execution_count": 212,
      "outputs": []
    },
    {
      "cell_type": "markdown",
      "source": [
        "*Removing years past 2018 as it isn't part of our data analysis*"
      ],
      "metadata": {
        "id": "1zdFTrdsMcdy"
      }
    },
    {
      "cell_type": "code",
      "source": [
        "df_fi3.shape"
      ],
      "metadata": {
        "colab": {
          "base_uri": "https://localhost:8080/"
        },
        "id": "cbkoHb4UOWep",
        "outputId": "5fdcaaf9-6463-48e7-914f-a7c5bcde1fec"
      },
      "execution_count": 213,
      "outputs": [
        {
          "output_type": "execute_result",
          "data": {
            "text/plain": [
              "(23521, 12)"
            ]
          },
          "metadata": {},
          "execution_count": 213
        }
      ]
    },
    {
      "cell_type": "code",
      "source": [
        "# no. of records with '6' in the 'level_of_education' column\n",
        "\n",
        "df_fi3[(df_fi3['level_of_education'] == '6')].shape"
      ],
      "metadata": {
        "colab": {
          "base_uri": "https://localhost:8080/"
        },
        "id": "3h_EDPQKSvj5",
        "outputId": "6aa4ee34-5a39-4219-c19c-2482e993d065"
      },
      "execution_count": 214,
      "outputs": [
        {
          "output_type": "execute_result",
          "data": {
            "text/plain": [
              "(27, 12)"
            ]
          },
          "metadata": {},
          "execution_count": 214
        }
      ]
    },
    {
      "cell_type": "code",
      "source": [
        "# Removing the anomalies in 'level_of_education' column\n",
        "\n",
        "df_fi5 = df_fi3[df_fi3['level_of_education'] == '6'].index\n",
        "df_fi3.drop(index=df_fi5, inplace=True)"
      ],
      "metadata": {
        "id": "nzvKtIc69S6u"
      },
      "execution_count": 215,
      "outputs": []
    },
    {
      "cell_type": "markdown",
      "source": [
        "*Records that have this anomaly amonunt to small no. of records compared to the total no. hence we can remove them.*"
      ],
      "metadata": {
        "id": "lrWpSWeYUnU5"
      }
    },
    {
      "cell_type": "code",
      "source": [
        "df_fi3.shape"
      ],
      "metadata": {
        "colab": {
          "base_uri": "https://localhost:8080/"
        },
        "id": "OEV8USBT9S3H",
        "outputId": "cf35c39f-8967-4984-f340-719cccb40522"
      },
      "execution_count": 216,
      "outputs": [
        {
          "output_type": "execute_result",
          "data": {
            "text/plain": [
              "(23494, 12)"
            ]
          },
          "metadata": {},
          "execution_count": 216
        }
      ]
    },
    {
      "cell_type": "code",
      "source": [
        "# no. of records with '0' in the 'household_size' column\n",
        "\n",
        "df_fi3[(df_fi3['household_size'] == 0)].shape"
      ],
      "metadata": {
        "colab": {
          "base_uri": "https://localhost:8080/"
        },
        "id": "DWZrqNXFRr95",
        "outputId": "181bc8cf-5240-4dfe-919a-b0182e214b0e"
      },
      "execution_count": 217,
      "outputs": [
        {
          "output_type": "execute_result",
          "data": {
            "text/plain": [
              "(36, 12)"
            ]
          },
          "metadata": {},
          "execution_count": 217
        }
      ]
    },
    {
      "cell_type": "code",
      "source": [
        "# Removing the anomalies in 'household_size' column\n",
        "df_fi3.drop(df_fi3.index[df_fi3['household_size'] == 0], inplace = True)"
      ],
      "metadata": {
        "id": "rJvvw_0h9Swf"
      },
      "execution_count": 218,
      "outputs": []
    },
    {
      "cell_type": "markdown",
      "source": [
        "*Having '0'/no people in a household does not make sense. Also the records that have this anomaly amonunt to small no. of records compared to the total hence we can remove them.*"
      ],
      "metadata": {
        "id": "65cAKqT0RKjv"
      }
    },
    {
      "cell_type": "code",
      "source": [
        "df_cd = df_fi3\n",
        "df_cd.head()"
      ],
      "metadata": {
        "colab": {
          "base_uri": "https://localhost:8080/",
          "height": 374
        },
        "id": "V9wQES7mQXGS",
        "outputId": "76195f01-b8e2-4d6d-e3fc-69ad5535e14b"
      },
      "execution_count": 219,
      "outputs": [
        {
          "output_type": "execute_result",
          "data": {
            "text/plain": [
              "  country  year has_bankacc location cellphone  household_size   age  gender  \\\n",
              "0   Kenya  2018         Yes    Rural       Yes             3.0  24.0  Female   \n",
              "1   Kenya  2018          No    Rural        No             5.0  70.0  Female   \n",
              "2   Kenya  2018         Yes    Urban       Yes             5.0  26.0    Male   \n",
              "3   Kenya  2018          No    Rural       Yes             5.0  34.0  Female   \n",
              "4   Kenya  2018          No    Urban        No             8.0  26.0    Male   \n",
              "\n",
              "    r/ship_with_head           marital_status  \\\n",
              "0             Spouse  Married/Living together   \n",
              "1  Head of Household                  Widowed   \n",
              "2     Other relative     Single/Never Married   \n",
              "3  Head of Household  Married/Living together   \n",
              "4              Child     Single/Never Married   \n",
              "\n",
              "                level_of_education                type_of_job  \n",
              "0              Secondary education              Self employed  \n",
              "1              No formal education       Government Dependent  \n",
              "2  Vocational/Specialised training              Self employed  \n",
              "3                Primary education  Formally employed Private  \n",
              "4                Primary education        Informally employed  "
            ],
            "text/html": [
              "\n",
              "  <div id=\"df-c9720120-d02d-4d12-8c94-7c885df7b982\">\n",
              "    <div class=\"colab-df-container\">\n",
              "      <div>\n",
              "<style scoped>\n",
              "    .dataframe tbody tr th:only-of-type {\n",
              "        vertical-align: middle;\n",
              "    }\n",
              "\n",
              "    .dataframe tbody tr th {\n",
              "        vertical-align: top;\n",
              "    }\n",
              "\n",
              "    .dataframe thead th {\n",
              "        text-align: right;\n",
              "    }\n",
              "</style>\n",
              "<table border=\"1\" class=\"dataframe\">\n",
              "  <thead>\n",
              "    <tr style=\"text-align: right;\">\n",
              "      <th></th>\n",
              "      <th>country</th>\n",
              "      <th>year</th>\n",
              "      <th>has_bankacc</th>\n",
              "      <th>location</th>\n",
              "      <th>cellphone</th>\n",
              "      <th>household_size</th>\n",
              "      <th>age</th>\n",
              "      <th>gender</th>\n",
              "      <th>r/ship_with_head</th>\n",
              "      <th>marital_status</th>\n",
              "      <th>level_of_education</th>\n",
              "      <th>type_of_job</th>\n",
              "    </tr>\n",
              "  </thead>\n",
              "  <tbody>\n",
              "    <tr>\n",
              "      <th>0</th>\n",
              "      <td>Kenya</td>\n",
              "      <td>2018</td>\n",
              "      <td>Yes</td>\n",
              "      <td>Rural</td>\n",
              "      <td>Yes</td>\n",
              "      <td>3.0</td>\n",
              "      <td>24.0</td>\n",
              "      <td>Female</td>\n",
              "      <td>Spouse</td>\n",
              "      <td>Married/Living together</td>\n",
              "      <td>Secondary education</td>\n",
              "      <td>Self employed</td>\n",
              "    </tr>\n",
              "    <tr>\n",
              "      <th>1</th>\n",
              "      <td>Kenya</td>\n",
              "      <td>2018</td>\n",
              "      <td>No</td>\n",
              "      <td>Rural</td>\n",
              "      <td>No</td>\n",
              "      <td>5.0</td>\n",
              "      <td>70.0</td>\n",
              "      <td>Female</td>\n",
              "      <td>Head of Household</td>\n",
              "      <td>Widowed</td>\n",
              "      <td>No formal education</td>\n",
              "      <td>Government Dependent</td>\n",
              "    </tr>\n",
              "    <tr>\n",
              "      <th>2</th>\n",
              "      <td>Kenya</td>\n",
              "      <td>2018</td>\n",
              "      <td>Yes</td>\n",
              "      <td>Urban</td>\n",
              "      <td>Yes</td>\n",
              "      <td>5.0</td>\n",
              "      <td>26.0</td>\n",
              "      <td>Male</td>\n",
              "      <td>Other relative</td>\n",
              "      <td>Single/Never Married</td>\n",
              "      <td>Vocational/Specialised training</td>\n",
              "      <td>Self employed</td>\n",
              "    </tr>\n",
              "    <tr>\n",
              "      <th>3</th>\n",
              "      <td>Kenya</td>\n",
              "      <td>2018</td>\n",
              "      <td>No</td>\n",
              "      <td>Rural</td>\n",
              "      <td>Yes</td>\n",
              "      <td>5.0</td>\n",
              "      <td>34.0</td>\n",
              "      <td>Female</td>\n",
              "      <td>Head of Household</td>\n",
              "      <td>Married/Living together</td>\n",
              "      <td>Primary education</td>\n",
              "      <td>Formally employed Private</td>\n",
              "    </tr>\n",
              "    <tr>\n",
              "      <th>4</th>\n",
              "      <td>Kenya</td>\n",
              "      <td>2018</td>\n",
              "      <td>No</td>\n",
              "      <td>Urban</td>\n",
              "      <td>No</td>\n",
              "      <td>8.0</td>\n",
              "      <td>26.0</td>\n",
              "      <td>Male</td>\n",
              "      <td>Child</td>\n",
              "      <td>Single/Never Married</td>\n",
              "      <td>Primary education</td>\n",
              "      <td>Informally employed</td>\n",
              "    </tr>\n",
              "  </tbody>\n",
              "</table>\n",
              "</div>\n",
              "      <button class=\"colab-df-convert\" onclick=\"convertToInteractive('df-c9720120-d02d-4d12-8c94-7c885df7b982')\"\n",
              "              title=\"Convert this dataframe to an interactive table.\"\n",
              "              style=\"display:none;\">\n",
              "        \n",
              "  <svg xmlns=\"http://www.w3.org/2000/svg\" height=\"24px\"viewBox=\"0 0 24 24\"\n",
              "       width=\"24px\">\n",
              "    <path d=\"M0 0h24v24H0V0z\" fill=\"none\"/>\n",
              "    <path d=\"M18.56 5.44l.94 2.06.94-2.06 2.06-.94-2.06-.94-.94-2.06-.94 2.06-2.06.94zm-11 1L8.5 8.5l.94-2.06 2.06-.94-2.06-.94L8.5 2.5l-.94 2.06-2.06.94zm10 10l.94 2.06.94-2.06 2.06-.94-2.06-.94-.94-2.06-.94 2.06-2.06.94z\"/><path d=\"M17.41 7.96l-1.37-1.37c-.4-.4-.92-.59-1.43-.59-.52 0-1.04.2-1.43.59L10.3 9.45l-7.72 7.72c-.78.78-.78 2.05 0 2.83L4 21.41c.39.39.9.59 1.41.59.51 0 1.02-.2 1.41-.59l7.78-7.78 2.81-2.81c.8-.78.8-2.07 0-2.86zM5.41 20L4 18.59l7.72-7.72 1.47 1.35L5.41 20z\"/>\n",
              "  </svg>\n",
              "      </button>\n",
              "      \n",
              "  <style>\n",
              "    .colab-df-container {\n",
              "      display:flex;\n",
              "      flex-wrap:wrap;\n",
              "      gap: 12px;\n",
              "    }\n",
              "\n",
              "    .colab-df-convert {\n",
              "      background-color: #E8F0FE;\n",
              "      border: none;\n",
              "      border-radius: 50%;\n",
              "      cursor: pointer;\n",
              "      display: none;\n",
              "      fill: #1967D2;\n",
              "      height: 32px;\n",
              "      padding: 0 0 0 0;\n",
              "      width: 32px;\n",
              "    }\n",
              "\n",
              "    .colab-df-convert:hover {\n",
              "      background-color: #E2EBFA;\n",
              "      box-shadow: 0px 1px 2px rgba(60, 64, 67, 0.3), 0px 1px 3px 1px rgba(60, 64, 67, 0.15);\n",
              "      fill: #174EA6;\n",
              "    }\n",
              "\n",
              "    [theme=dark] .colab-df-convert {\n",
              "      background-color: #3B4455;\n",
              "      fill: #D2E3FC;\n",
              "    }\n",
              "\n",
              "    [theme=dark] .colab-df-convert:hover {\n",
              "      background-color: #434B5C;\n",
              "      box-shadow: 0px 1px 3px 1px rgba(0, 0, 0, 0.15);\n",
              "      filter: drop-shadow(0px 1px 2px rgba(0, 0, 0, 0.3));\n",
              "      fill: #FFFFFF;\n",
              "    }\n",
              "  </style>\n",
              "\n",
              "      <script>\n",
              "        const buttonEl =\n",
              "          document.querySelector('#df-c9720120-d02d-4d12-8c94-7c885df7b982 button.colab-df-convert');\n",
              "        buttonEl.style.display =\n",
              "          google.colab.kernel.accessAllowed ? 'block' : 'none';\n",
              "\n",
              "        async function convertToInteractive(key) {\n",
              "          const element = document.querySelector('#df-c9720120-d02d-4d12-8c94-7c885df7b982');\n",
              "          const dataTable =\n",
              "            await google.colab.kernel.invokeFunction('convertToInteractive',\n",
              "                                                     [key], {});\n",
              "          if (!dataTable) return;\n",
              "\n",
              "          const docLinkHtml = 'Like what you see? Visit the ' +\n",
              "            '<a target=\"_blank\" href=https://colab.research.google.com/notebooks/data_table.ipynb>data table notebook</a>'\n",
              "            + ' to learn more about interactive tables.';\n",
              "          element.innerHTML = '';\n",
              "          dataTable['output_type'] = 'display_data';\n",
              "          await google.colab.output.renderOutput(dataTable, element);\n",
              "          const docLink = document.createElement('div');\n",
              "          docLink.innerHTML = docLinkHtml;\n",
              "          element.appendChild(docLink);\n",
              "        }\n",
              "      </script>\n",
              "    </div>\n",
              "  </div>\n",
              "  "
            ]
          },
          "metadata": {},
          "execution_count": 219
        }
      ]
    },
    {
      "cell_type": "code",
      "source": [
        "df_cd.shape"
      ],
      "metadata": {
        "colab": {
          "base_uri": "https://localhost:8080/"
        },
        "id": "LPYdDhZ2QXBp",
        "outputId": "36e6233b-408a-4bb2-bd92-7947d0bdd385"
      },
      "execution_count": 220,
      "outputs": [
        {
          "output_type": "execute_result",
          "data": {
            "text/plain": [
              "(23458, 12)"
            ]
          },
          "metadata": {},
          "execution_count": 220
        }
      ]
    },
    {
      "cell_type": "markdown",
      "source": [
        "***The final dataset that we will use has 23458 rows and 12 columns***"
      ],
      "metadata": {
        "id": "iAZbrn-8Wlpp"
      }
    },
    {
      "cell_type": "markdown",
      "source": [
        "##**[6] EXPLORATORY ANALYSIS**"
      ],
      "metadata": {
        "id": "pL8po62RRodF"
      }
    },
    {
      "cell_type": "markdown",
      "source": [
        "###**a) UNIVARIATE ANALYSIS**"
      ],
      "metadata": {
        "id": "g3m3sHYvgc8a"
      }
    },
    {
      "cell_type": "markdown",
      "source": [
        "####**Measures of Central Tendency**"
      ],
      "metadata": {
        "id": "uuPf4fxQiLqh"
      }
    },
    {
      "cell_type": "code",
      "source": [
        "# Describing the numerical variables\n",
        "\n",
        "df_cd[['household_size','age']].describe()"
      ],
      "metadata": {
        "colab": {
          "base_uri": "https://localhost:8080/",
          "height": 300
        },
        "id": "_ZO1uFIqt199",
        "outputId": "842e350c-7ec9-4066-b632-bb8981f5be6e"
      },
      "execution_count": 221,
      "outputs": [
        {
          "output_type": "execute_result",
          "data": {
            "text/plain": [
              "       household_size           age\n",
              "count    23430.000000  23424.000000\n",
              "mean         3.687239     38.766052\n",
              "std          2.276766     16.475404\n",
              "min          1.000000     16.000000\n",
              "25%          2.000000     26.000000\n",
              "50%          3.000000     35.000000\n",
              "75%          5.000000     49.000000\n",
              "max         21.000000    100.000000"
            ],
            "text/html": [
              "\n",
              "  <div id=\"df-cb483707-9beb-4db2-9abb-198ffb94ef21\">\n",
              "    <div class=\"colab-df-container\">\n",
              "      <div>\n",
              "<style scoped>\n",
              "    .dataframe tbody tr th:only-of-type {\n",
              "        vertical-align: middle;\n",
              "    }\n",
              "\n",
              "    .dataframe tbody tr th {\n",
              "        vertical-align: top;\n",
              "    }\n",
              "\n",
              "    .dataframe thead th {\n",
              "        text-align: right;\n",
              "    }\n",
              "</style>\n",
              "<table border=\"1\" class=\"dataframe\">\n",
              "  <thead>\n",
              "    <tr style=\"text-align: right;\">\n",
              "      <th></th>\n",
              "      <th>household_size</th>\n",
              "      <th>age</th>\n",
              "    </tr>\n",
              "  </thead>\n",
              "  <tbody>\n",
              "    <tr>\n",
              "      <th>count</th>\n",
              "      <td>23430.000000</td>\n",
              "      <td>23424.000000</td>\n",
              "    </tr>\n",
              "    <tr>\n",
              "      <th>mean</th>\n",
              "      <td>3.687239</td>\n",
              "      <td>38.766052</td>\n",
              "    </tr>\n",
              "    <tr>\n",
              "      <th>std</th>\n",
              "      <td>2.276766</td>\n",
              "      <td>16.475404</td>\n",
              "    </tr>\n",
              "    <tr>\n",
              "      <th>min</th>\n",
              "      <td>1.000000</td>\n",
              "      <td>16.000000</td>\n",
              "    </tr>\n",
              "    <tr>\n",
              "      <th>25%</th>\n",
              "      <td>2.000000</td>\n",
              "      <td>26.000000</td>\n",
              "    </tr>\n",
              "    <tr>\n",
              "      <th>50%</th>\n",
              "      <td>3.000000</td>\n",
              "      <td>35.000000</td>\n",
              "    </tr>\n",
              "    <tr>\n",
              "      <th>75%</th>\n",
              "      <td>5.000000</td>\n",
              "      <td>49.000000</td>\n",
              "    </tr>\n",
              "    <tr>\n",
              "      <th>max</th>\n",
              "      <td>21.000000</td>\n",
              "      <td>100.000000</td>\n",
              "    </tr>\n",
              "  </tbody>\n",
              "</table>\n",
              "</div>\n",
              "      <button class=\"colab-df-convert\" onclick=\"convertToInteractive('df-cb483707-9beb-4db2-9abb-198ffb94ef21')\"\n",
              "              title=\"Convert this dataframe to an interactive table.\"\n",
              "              style=\"display:none;\">\n",
              "        \n",
              "  <svg xmlns=\"http://www.w3.org/2000/svg\" height=\"24px\"viewBox=\"0 0 24 24\"\n",
              "       width=\"24px\">\n",
              "    <path d=\"M0 0h24v24H0V0z\" fill=\"none\"/>\n",
              "    <path d=\"M18.56 5.44l.94 2.06.94-2.06 2.06-.94-2.06-.94-.94-2.06-.94 2.06-2.06.94zm-11 1L8.5 8.5l.94-2.06 2.06-.94-2.06-.94L8.5 2.5l-.94 2.06-2.06.94zm10 10l.94 2.06.94-2.06 2.06-.94-2.06-.94-.94-2.06-.94 2.06-2.06.94z\"/><path d=\"M17.41 7.96l-1.37-1.37c-.4-.4-.92-.59-1.43-.59-.52 0-1.04.2-1.43.59L10.3 9.45l-7.72 7.72c-.78.78-.78 2.05 0 2.83L4 21.41c.39.39.9.59 1.41.59.51 0 1.02-.2 1.41-.59l7.78-7.78 2.81-2.81c.8-.78.8-2.07 0-2.86zM5.41 20L4 18.59l7.72-7.72 1.47 1.35L5.41 20z\"/>\n",
              "  </svg>\n",
              "      </button>\n",
              "      \n",
              "  <style>\n",
              "    .colab-df-container {\n",
              "      display:flex;\n",
              "      flex-wrap:wrap;\n",
              "      gap: 12px;\n",
              "    }\n",
              "\n",
              "    .colab-df-convert {\n",
              "      background-color: #E8F0FE;\n",
              "      border: none;\n",
              "      border-radius: 50%;\n",
              "      cursor: pointer;\n",
              "      display: none;\n",
              "      fill: #1967D2;\n",
              "      height: 32px;\n",
              "      padding: 0 0 0 0;\n",
              "      width: 32px;\n",
              "    }\n",
              "\n",
              "    .colab-df-convert:hover {\n",
              "      background-color: #E2EBFA;\n",
              "      box-shadow: 0px 1px 2px rgba(60, 64, 67, 0.3), 0px 1px 3px 1px rgba(60, 64, 67, 0.15);\n",
              "      fill: #174EA6;\n",
              "    }\n",
              "\n",
              "    [theme=dark] .colab-df-convert {\n",
              "      background-color: #3B4455;\n",
              "      fill: #D2E3FC;\n",
              "    }\n",
              "\n",
              "    [theme=dark] .colab-df-convert:hover {\n",
              "      background-color: #434B5C;\n",
              "      box-shadow: 0px 1px 3px 1px rgba(0, 0, 0, 0.15);\n",
              "      filter: drop-shadow(0px 1px 2px rgba(0, 0, 0, 0.3));\n",
              "      fill: #FFFFFF;\n",
              "    }\n",
              "  </style>\n",
              "\n",
              "      <script>\n",
              "        const buttonEl =\n",
              "          document.querySelector('#df-cb483707-9beb-4db2-9abb-198ffb94ef21 button.colab-df-convert');\n",
              "        buttonEl.style.display =\n",
              "          google.colab.kernel.accessAllowed ? 'block' : 'none';\n",
              "\n",
              "        async function convertToInteractive(key) {\n",
              "          const element = document.querySelector('#df-cb483707-9beb-4db2-9abb-198ffb94ef21');\n",
              "          const dataTable =\n",
              "            await google.colab.kernel.invokeFunction('convertToInteractive',\n",
              "                                                     [key], {});\n",
              "          if (!dataTable) return;\n",
              "\n",
              "          const docLinkHtml = 'Like what you see? Visit the ' +\n",
              "            '<a target=\"_blank\" href=https://colab.research.google.com/notebooks/data_table.ipynb>data table notebook</a>'\n",
              "            + ' to learn more about interactive tables.';\n",
              "          element.innerHTML = '';\n",
              "          dataTable['output_type'] = 'display_data';\n",
              "          await google.colab.output.renderOutput(dataTable, element);\n",
              "          const docLink = document.createElement('div');\n",
              "          docLink.innerHTML = docLinkHtml;\n",
              "          element.appendChild(docLink);\n",
              "        }\n",
              "      </script>\n",
              "    </div>\n",
              "  </div>\n",
              "  "
            ]
          },
          "metadata": {},
          "execution_count": 221
        }
      ]
    },
    {
      "cell_type": "code",
      "source": [
        "# Finding mode for 'household_size' column\n",
        "df_cd.household_size.mode()"
      ],
      "metadata": {
        "colab": {
          "base_uri": "https://localhost:8080/"
        },
        "id": "4CksFGf_FhSQ",
        "outputId": "ce911736-b964-4436-dee9-5d17c6d30923"
      },
      "execution_count": 222,
      "outputs": [
        {
          "output_type": "execute_result",
          "data": {
            "text/plain": [
              "0    2.0\n",
              "dtype: float64"
            ]
          },
          "metadata": {},
          "execution_count": 222
        }
      ]
    },
    {
      "cell_type": "markdown",
      "source": [
        "The moast ocurring household size was 2"
      ],
      "metadata": {
        "id": "3VHIV8ZdFr_w"
      }
    },
    {
      "cell_type": "code",
      "source": [
        "# Finding mode for 'age' column\n",
        "df_cd.age.mode()"
      ],
      "metadata": {
        "colab": {
          "base_uri": "https://localhost:8080/"
        },
        "id": "lOaZzkBBFyKr",
        "outputId": "f0d3dfb6-c468-4e82-9f84-d802250af0eb"
      },
      "execution_count": 223,
      "outputs": [
        {
          "output_type": "execute_result",
          "data": {
            "text/plain": [
              "0    30.0\n",
              "dtype: float64"
            ]
          },
          "metadata": {},
          "execution_count": 223
        }
      ]
    },
    {
      "cell_type": "markdown",
      "source": [
        "most repondents were of age 30"
      ],
      "metadata": {
        "id": "YiuDB2PUF4L9"
      }
    },
    {
      "cell_type": "code",
      "source": [
        "# Finding median for 'household_size' column\n",
        "df_cd.household_size.median()"
      ],
      "metadata": {
        "colab": {
          "base_uri": "https://localhost:8080/"
        },
        "id": "xgQIiM2VF8t8",
        "outputId": "dae334a4-1a28-40cf-8736-30ad05e165aa"
      },
      "execution_count": 224,
      "outputs": [
        {
          "output_type": "execute_result",
          "data": {
            "text/plain": [
              "3.0"
            ]
          },
          "metadata": {},
          "execution_count": 224
        }
      ]
    },
    {
      "cell_type": "markdown",
      "source": [
        "The median value of the household size was 3"
      ],
      "metadata": {
        "id": "i4j3l5siGHy8"
      }
    },
    {
      "cell_type": "code",
      "source": [
        "# Finding median for 'age' column\n",
        "df_cd.age.median()"
      ],
      "metadata": {
        "colab": {
          "base_uri": "https://localhost:8080/"
        },
        "id": "H6YH4HWNGRRH",
        "outputId": "99c1d0cc-b607-4db2-ce3d-24e6e2d472f1"
      },
      "execution_count": 225,
      "outputs": [
        {
          "output_type": "execute_result",
          "data": {
            "text/plain": [
              "35.0"
            ]
          },
          "metadata": {},
          "execution_count": 225
        }
      ]
    },
    {
      "cell_type": "markdown",
      "source": [
        "The median value of the respondents age was 35"
      ],
      "metadata": {
        "id": "G4areSpTGYvP"
      }
    },
    {
      "cell_type": "code",
      "source": [
        "# Creating a pie chart of the percentage of count of values in 'gender' column\n",
        "\n",
        "# Finding the count of values of the elements in 'bank_account' column\n",
        "gender = df_cd.gender.value_counts()\n",
        "gender\n",
        "\n",
        "# Assigning the colums to 'element' and 'size' variables\n",
        "element = gender.values\n",
        "size = gender.index\n",
        "\n",
        "# Specifying the colors of the pie chart\n",
        "colors = ['purple', 'orange']\n",
        "\n",
        "# plotting the pie chart\n",
        "plt.figure(figsize = (5,5), dpi = 100)\n",
        "plt.pie(element, labels=size, colors=colors, autopct ='%1.1f%%', startangle = 140)\n",
        "plt.axis('equal')\n",
        "plt.title('Pie Chart of Gender Distribution')\n",
        "plt.show()"
      ],
      "metadata": {
        "colab": {
          "base_uri": "https://localhost:8080/",
          "height": 436
        },
        "id": "lD8Z3_rHtA7q",
        "outputId": "1ce24ac9-f328-4e27-acde-b680f88f79eb"
      },
      "execution_count": 226,
      "outputs": [
        {
          "output_type": "display_data",
          "data": {
            "text/plain": [
              "<Figure size 500x500 with 1 Axes>"
            ],
            "image/png": "[encoded data removed]"
          },
          "metadata": {}
        }
      ]
    },
    {
      "cell_type": "markdown",
      "source": [
        "There were slightly more female than male respondents "
      ],
      "metadata": {
        "id": "Kj5zWKkouVpy"
      }
    },
    {
      "cell_type": "code",
      "source": [
        "# A bar chart showing the respondents in the 4 countries\n",
        "plt.figure(dpi = 120)\n",
        "sns.set_style('darkgrid')\n",
        "sns.countplot(df_cd.country)\n",
        "plt.title('A bar graph showing the No. of Respondents by their country', color = 'purple')\n",
        "plt.show()"
      ],
      "metadata": {
        "colab": {
          "base_uri": "https://localhost:8080/",
          "height": 538
        },
        "id": "0z_6MV8FW8kg",
        "outputId": "6c85efff-007f-4d17-d3b2-8b63fd88ffbf"
      },
      "execution_count": 227,
      "outputs": [
        {
          "output_type": "stream",
          "name": "stderr",
          "text": [
            "/usr/local/lib/python3.7/dist-packages/seaborn/_decorators.py:43: FutureWarning: Pass the following variable as a keyword arg: x. From version 0.12, the only valid positional argument will be `data`, and passing other arguments without an explicit keyword will result in an error or misinterpretation.\n",
            "  FutureWarning\n"
          ]
        },
        {
          "output_type": "display_data",
          "data": {
            "text/plain": [
              "<Figure size 720x480 with 1 Axes>"
            ],
            "image/png": "[encoded data removed]"
          },
          "metadata": {}
        }
      ]
    },
    {
      "cell_type": "code",
      "source": [
        "# A bar chart showing the respondents that have bank accounts\n",
        "plt.figure(dpi = 120)\n",
        "sns.set_style('darkgrid')\n",
        "sns.countplot(df_cd.has_bankacc)\n",
        "plt.title('A bar graph showing the respondents that have bank accounts', color = 'purple')\n",
        "plt.show()"
      ],
      "metadata": {
        "colab": {
          "base_uri": "https://localhost:8080/",
          "height": 538
        },
        "id": "3yP_OjTLW8LZ",
        "outputId": "6d6fd6cd-552d-410d-bcad-66c501e02489"
      },
      "execution_count": 228,
      "outputs": [
        {
          "output_type": "stream",
          "name": "stderr",
          "text": [
            "/usr/local/lib/python3.7/dist-packages/seaborn/_decorators.py:43: FutureWarning: Pass the following variable as a keyword arg: x. From version 0.12, the only valid positional argument will be `data`, and passing other arguments without an explicit keyword will result in an error or misinterpretation.\n",
            "  FutureWarning\n"
          ]
        },
        {
          "output_type": "display_data",
          "data": {
            "text/plain": [
              "<Figure size 720x480 with 1 Axes>"
            ],
            "image/png": "[encoded data removed]"
          },
          "metadata": {}
        }
      ]
    },
    {
      "cell_type": "code",
      "source": [
        "# A bar chart showing the locations of respondents\n",
        "plt.figure(dpi = 120)\n",
        "sns.set_style('darkgrid')\n",
        "sns.countplot(df_cd.location)\n",
        "plt.title('A bar graph showing the locations of respondents', color = 'purple')\n",
        "plt.show()"
      ],
      "metadata": {
        "colab": {
          "base_uri": "https://localhost:8080/",
          "height": 538
        },
        "id": "lW68SEbeW8JO",
        "outputId": "9ecc0686-0010-436a-95d7-05314690913a"
      },
      "execution_count": 229,
      "outputs": [
        {
          "output_type": "stream",
          "name": "stderr",
          "text": [
            "/usr/local/lib/python3.7/dist-packages/seaborn/_decorators.py:43: FutureWarning: Pass the following variable as a keyword arg: x. From version 0.12, the only valid positional argument will be `data`, and passing other arguments without an explicit keyword will result in an error or misinterpretation.\n",
            "  FutureWarning\n"
          ]
        },
        {
          "output_type": "display_data",
          "data": {
            "text/plain": [
              "<Figure size 720x480 with 1 Axes>"
            ],
            "image/png": "[encoded data removed]"
          },
          "metadata": {}
        }
      ]
    },
    {
      "cell_type": "markdown",
      "source": [
        "1. **Majority of the respondents were from rural areas**\n",
        "2. **Rwanda had the highest number of respondents**\n",
        "3. **Majority of the respondents do not have bank accounts**"
      ],
      "metadata": {
        "id": "ItB1zGL5mvbz"
      }
    },
    {
      "cell_type": "markdown",
      "source": [
        "###**b) BIVARIATE ANALYSIS**"
      ],
      "metadata": {
        "id": "dHI_y1EtuwDq"
      }
    },
    {
      "cell_type": "code",
      "source": [
        "# A heatmap to show correlation between numerical variables\n",
        "\n",
        "sns.heatmap(df_cd.corr(), xticklabels = df_cd.corr().columns, yticklabels = df_cd.corr().columns, annot=True)"
      ],
      "metadata": {
        "id": "mZ_daYPau2IZ",
        "colab": {
          "base_uri": "https://localhost:8080/",
          "height": 288
        },
        "outputId": "e212f152-1389-49bb-e33a-684966086987"
      },
      "execution_count": 230,
      "outputs": [
        {
          "output_type": "execute_result",
          "data": {
            "text/plain": [
              "<matplotlib.axes._subplots.AxesSubplot at 0x7f4ada0d8ad0>"
            ]
          },
          "metadata": {},
          "execution_count": 230
        },
        {
          "output_type": "display_data",
          "data": {
            "text/plain": [
              "<Figure size 432x288 with 2 Axes>"
            ],
            "image/png": "[encoded data removed]"
          },
          "metadata": {}
        }
      ]
    },
    {
      "cell_type": "code",
      "source": [
        "# Plotting a scatter plot of the household size and respondents age\n",
        "\n",
        "df_cd.plot(x = 'household_size', y = 'age', kind='scatter')"
      ],
      "metadata": {
        "id": "hDDgJXzru1E6",
        "colab": {
          "base_uri": "https://localhost:8080/",
          "height": 298
        },
        "outputId": "5efb0c53-3d45-4f85-d8c6-18d03f287edb"
      },
      "execution_count": 231,
      "outputs": [
        {
          "output_type": "execute_result",
          "data": {
            "text/plain": [
              "<matplotlib.axes._subplots.AxesSubplot at 0x7f4ad9ee4b50>"
            ]
          },
          "metadata": {},
          "execution_count": 231
        },
        {
          "output_type": "display_data",
          "data": {
            "text/plain": [
              "<Figure size 432x288 with 1 Axes>"
            ],
            "image/png": "[encoded data removed]"
          },
          "metadata": {}
        }
      ]
    },
    {
      "cell_type": "markdown",
      "source": [
        "There appears to be no correlation between the ages of the respondents in the sample and the house size."
      ],
      "metadata": {
        "id": "9JI3udhk9Ee2"
      }
    },
    {
      "cell_type": "code",
      "source": [
        "# A stacked bar chart of gender and has_bankacc\n",
        "\n",
        "gender = df_cd.groupby('gender')['has_bankacc'].value_counts(normalize=True).unstack()\n",
        "gender.plot(kind='bar', figsize=(8, 6), stacked=True)\n",
        "\n",
        "# The chart title\n",
        "plt.title('Distribution of bank accounts depending on their gender', fontsize=14, y=1.015)\n",
        "\n",
        "# y-axis label\n",
        "plt.ylabel('Bank Accounts', fontsize=14, labelpad=15)\n",
        "\n",
        "# x-axis label\n",
        "plt.xlabel('gender', fontsize=14, labelpad=15)\n",
        "\n",
        "plt.show()"
      ],
      "metadata": {
        "colab": {
          "base_uri": "https://localhost:8080/",
          "height": 451
        },
        "id": "S5UAaRiz_JCz",
        "outputId": "615b60c7-11ee-4c0f-fb17-9db7259359dc"
      },
      "execution_count": 232,
      "outputs": [
        {
          "output_type": "display_data",
          "data": {
            "text/plain": [
              "<Figure size 576x432 with 1 Axes>"
            ],
            "image/png": "[encoded data removed]"
          },
          "metadata": {}
        }
      ]
    },
    {
      "cell_type": "code",
      "source": [
        "# plotting a stacked bar chart of cell phone access and has_bankacc\n",
        "\n",
        "phone_access = df_cd.groupby('cellphone')['has_bankacc'].value_counts(normalize=True).unstack()\n",
        "phone_access.plot(kind='bar', figsize=(8, 6), stacked=True)\n",
        "\n",
        "# The chart title\n",
        "plt.title('Distribution of bank accounts depending on cell phone access', fontsize=14, y=1.015)\n",
        "\n",
        "# y-axis label\n",
        "plt.ylabel('Bank Accounts', fontsize=14, labelpad=15)\n",
        "\n",
        "# x-axis label\n",
        "plt.xlabel('cell phone access', fontsize=14, labelpad=15)\n",
        "\n",
        "plt.show()"
      ],
      "metadata": {
        "colab": {
          "base_uri": "https://localhost:8080/",
          "height": 431
        },
        "id": "lSg_9_hP_I4T",
        "outputId": "9a6c94f9-22df-4bad-c183-be7174876f0c"
      },
      "execution_count": 233,
      "outputs": [
        {
          "output_type": "display_data",
          "data": {
            "text/plain": [
              "<Figure size 576x432 with 1 Axes>"
            ],
            "image/png": "[encoded data removed]"
          },
          "metadata": {}
        }
      ]
    },
    {
      "cell_type": "code",
      "source": [
        "# A stacked bar chart of level of education and has_bankacc\n",
        "\n",
        "country = df_cd.groupby('level_of_education')['has_bankacc'].value_counts(normalize=True).unstack()\n",
        "country.plot(kind='bar', figsize=(8, 6), stacked=True)\n",
        "\n",
        "# The chart title\n",
        "plt.title('Distribution of bank accounts depending on their level of education', fontsize=14, y=1.015)\n",
        "\n",
        "#  y-axis label\n",
        "plt.ylabel('Bank Accounts', fontsize=14, labelpad=15)\n",
        "\n",
        "# x-axis label\n",
        "plt.xlabel('Level of Education', fontsize=14, labelpad=15)\n",
        "\n",
        "plt.show()"
      ],
      "metadata": {
        "colab": {
          "base_uri": "https://localhost:8080/",
          "height": 569
        },
        "id": "xYO5qnO8_I0D",
        "outputId": "1b78caa8-6c63-43e7-cab2-c3aa64d0b08c"
      },
      "execution_count": 234,
      "outputs": [
        {
          "output_type": "display_data",
          "data": {
            "text/plain": [
              "<Figure size 576x432 with 1 Axes>"
            ],
            "image/png": "[encoded data removed]"
          },
          "metadata": {}
        }
      ]
    },
    {
      "cell_type": "markdown",
      "source": [
        "Indidviduals with /Specialised training are more likely to have bank accounts closely followed by those with Tertiary education"
      ],
      "metadata": {
        "id": "ccpL3FByCng7"
      }
    },
    {
      "cell_type": "code",
      "source": [
        "# A stacked bar chart of country and has_bankacc\n",
        "\n",
        "country = df_cd.groupby('country')['has_bankacc'].value_counts(normalize=True).unstack()\n",
        "country.plot(kind='bar', figsize=(8, 6), stacked=True)\n",
        "\n",
        "# The chart title\n",
        "plt.title('Distribution of bank accounts per country', fontsize=14, y=1.015)\n",
        "\n",
        "#  y-axis label\n",
        "plt.ylabel('Bank Accounts', fontsize=14, labelpad=15)\n",
        "\n",
        "# x-axis label\n",
        "plt.xlabel('Country', fontsize=14, labelpad=15)\n",
        "\n",
        "plt.show()"
      ],
      "metadata": {
        "colab": {
          "base_uri": "https://localhost:8080/",
          "height": 458
        },
        "id": "H_VudZt49R8E",
        "outputId": "4510724c-fd4a-4bd6-b99a-a65913a6f557"
      },
      "execution_count": 235,
      "outputs": [
        {
          "output_type": "display_data",
          "data": {
            "text/plain": [
              "<Figure size 576x432 with 1 Axes>"
            ],
            "image/png": "[encoded data removed]"
          },
          "metadata": {}
        }
      ]
    },
    {
      "cell_type": "code",
      "source": [
        "# A stacked bar chart of type of job and has_bankacc\n",
        "\n",
        "\n",
        "country = df_cd.groupby('type_of_job')['has_bankacc'].value_counts(normalize=True).unstack()\n",
        "country.plot(kind='bar', figsize=(8, 6), stacked=True)\n",
        "\n",
        "# The chart title\n",
        "plt.title('Distribution of bank accounts depending on their occupation', fontsize=14, y=1.015)\n",
        "\n",
        "#  y-axis label\n",
        "plt.ylabel('Bank Accounts', fontsize=14, labelpad=15)\n",
        "\n",
        "# x-axis label\n",
        "plt.xlabel('Occupation', fontsize=14, labelpad=15)\n",
        "\n",
        "plt.show()"
      ],
      "metadata": {
        "colab": {
          "base_uri": "https://localhost:8080/",
          "height": 575
        },
        "id": "KJZhOWY3AKld",
        "outputId": "0628efed-b02b-4038-98f2-27cb5f949428"
      },
      "execution_count": 236,
      "outputs": [
        {
          "output_type": "display_data",
          "data": {
            "text/plain": [
              "<Figure size 576x432 with 1 Axes>"
            ],
            "image/png": "[encoded data removed]"
          },
          "metadata": {}
        }
      ]
    },
    {
      "cell_type": "markdown",
      "source": [
        "Individuals employed by the government are more likely to have bank accounts followed by those that are employed privately.\n",
        "\n",
        "Those without income are least likely to have a bank account"
      ],
      "metadata": {
        "id": "u506w6m9BIU0"
      }
    },
    {
      "cell_type": "markdown",
      "source": [
        "###**c) MULTIVARIATE ANALYSIS**"
      ],
      "metadata": {
        "id": "7MpE_mDNsKaZ"
      }
    },
    {
      "cell_type": "code",
      "source": [
        "# Making a copy of our dataframe\n",
        "\n",
        "df_ma = df_cd.copy()"
      ],
      "metadata": {
        "id": "QPHEVa3kEHQD"
      },
      "execution_count": 237,
      "outputs": []
    },
    {
      "cell_type": "code",
      "source": [
        "df_ma.columns"
      ],
      "metadata": {
        "colab": {
          "base_uri": "https://localhost:8080/"
        },
        "id": "WAynJiD8FUkr",
        "outputId": "8ecc3fb0-98e6-471d-81d9-c37f7ba3737b"
      },
      "execution_count": 238,
      "outputs": [
        {
          "output_type": "execute_result",
          "data": {
            "text/plain": [
              "Index(['country', 'year', 'has_bankacc', 'location', 'cellphone',\n",
              "       'household_size', 'age', 'gender', 'r/ship_with_head', 'marital_status',\n",
              "       'level_of_education', 'type_of_job'],\n",
              "      dtype='object')"
            ]
          },
          "metadata": {},
          "execution_count": 238
        }
      ]
    },
    {
      "cell_type": "markdown",
      "source": [
        "#### Principal Component Analysis"
      ],
      "metadata": {
        "id": "uPml3aCTDc9q"
      }
    },
    {
      "cell_type": "code",
      "source": [
        "# Importing label encoder to convert our categorical data into numbers\n",
        "\n",
        "le=LabelEncoder()\n",
        "\n",
        "df_ma['country']=le.fit_transform(df_ma['country'].astype(str))\n",
        "df_ma['has_bankacc']=le.fit_transform(df_ma['has_bankacc'].astype(str))\n",
        "df_ma['location']=le.fit_transform(df_ma['location'].astype(str))\n",
        "df_ma['cellphone']=le.fit_transform(df_ma['cellphone'].astype(str))\n",
        "df_ma['gender']=le.fit_transform(df_ma['gender'].astype(str))\n",
        "df_ma['r/ship_with_head']=le.fit_transform(df_ma['r/ship_with_head'].astype(str))\n",
        "df_ma['marital_status']=le.fit_transform(df_ma['marital_status'].astype(str))\n",
        "df_ma['level_of_education']=le.fit_transform(df_ma['level_of_education'].astype(str))\n",
        "df_ma['type_of_job']=le.fit_transform(df_ma['type_of_job'].astype(str))\n",
        "\n",
        "df_ma.head()"
      ],
      "metadata": {
        "colab": {
          "base_uri": "https://localhost:8080/",
          "height": 270
        },
        "id": "f2SgMEiLDcNs",
        "outputId": "a98ac8e8-8f86-45a4-97bd-608e3f0b7ce7"
      },
      "execution_count": 239,
      "outputs": [
        {
          "output_type": "execute_result",
          "data": {
            "text/plain": [
              "   country  year  has_bankacc  location  cellphone  household_size   age  \\\n",
              "0        0  2018            1         0          1             3.0  24.0   \n",
              "1        0  2018            0         0          0             5.0  70.0   \n",
              "2        0  2018            1         1          1             5.0  26.0   \n",
              "3        0  2018            0         0          1             5.0  34.0   \n",
              "4        0  2018            0         1          0             8.0  26.0   \n",
              "\n",
              "   gender  r/ship_with_head  marital_status  level_of_education  type_of_job  \n",
              "0       0                 5               2                   3            9  \n",
              "1       0                 1               4                   0            4  \n",
              "2       1                 3               3                   5            9  \n",
              "3       0                 1               2                   2            3  \n",
              "4       1                 0               3                   2            5  "
            ],
            "text/html": [
              "\n",
              "  <div id=\"df-70cbf44d-67f2-4fd1-8408-abd8f8d2a2fb\">\n",
              "    <div class=\"colab-df-container\">\n",
              "      <div>\n",
              "<style scoped>\n",
              "    .dataframe tbody tr th:only-of-type {\n",
              "        vertical-align: middle;\n",
              "    }\n",
              "\n",
              "    .dataframe tbody tr th {\n",
              "        vertical-align: top;\n",
              "    }\n",
              "\n",
              "    .dataframe thead th {\n",
              "        text-align: right;\n",
              "    }\n",
              "</style>\n",
              "<table border=\"1\" class=\"dataframe\">\n",
              "  <thead>\n",
              "    <tr style=\"text-align: right;\">\n",
              "      <th></th>\n",
              "      <th>country</th>\n",
              "      <th>year</th>\n",
              "      <th>has_bankacc</th>\n",
              "      <th>location</th>\n",
              "      <th>cellphone</th>\n",
              "      <th>household_size</th>\n",
              "      <th>age</th>\n",
              "      <th>gender</th>\n",
              "      <th>r/ship_with_head</th>\n",
              "      <th>marital_status</th>\n",
              "      <th>level_of_education</th>\n",
              "      <th>type_of_job</th>\n",
              "    </tr>\n",
              "  </thead>\n",
              "  <tbody>\n",
              "    <tr>\n",
              "      <th>0</th>\n",
              "      <td>0</td>\n",
              "      <td>2018</td>\n",
              "      <td>1</td>\n",
              "      <td>0</td>\n",
              "      <td>1</td>\n",
              "      <td>3.0</td>\n",
              "      <td>24.0</td>\n",
              "      <td>0</td>\n",
              "      <td>5</td>\n",
              "      <td>2</td>\n",
              "      <td>3</td>\n",
              "      <td>9</td>\n",
              "    </tr>\n",
              "    <tr>\n",
              "      <th>1</th>\n",
              "      <td>0</td>\n",
              "      <td>2018</td>\n",
              "      <td>0</td>\n",
              "      <td>0</td>\n",
              "      <td>0</td>\n",
              "      <td>5.0</td>\n",
              "      <td>70.0</td>\n",
              "      <td>0</td>\n",
              "      <td>1</td>\n",
              "      <td>4</td>\n",
              "      <td>0</td>\n",
              "      <td>4</td>\n",
              "    </tr>\n",
              "    <tr>\n",
              "      <th>2</th>\n",
              "      <td>0</td>\n",
              "      <td>2018</td>\n",
              "      <td>1</td>\n",
              "      <td>1</td>\n",
              "      <td>1</td>\n",
              "      <td>5.0</td>\n",
              "      <td>26.0</td>\n",
              "      <td>1</td>\n",
              "      <td>3</td>\n",
              "      <td>3</td>\n",
              "      <td>5</td>\n",
              "      <td>9</td>\n",
              "    </tr>\n",
              "    <tr>\n",
              "      <th>3</th>\n",
              "      <td>0</td>\n",
              "      <td>2018</td>\n",
              "      <td>0</td>\n",
              "      <td>0</td>\n",
              "      <td>1</td>\n",
              "      <td>5.0</td>\n",
              "      <td>34.0</td>\n",
              "      <td>0</td>\n",
              "      <td>1</td>\n",
              "      <td>2</td>\n",
              "      <td>2</td>\n",
              "      <td>3</td>\n",
              "    </tr>\n",
              "    <tr>\n",
              "      <th>4</th>\n",
              "      <td>0</td>\n",
              "      <td>2018</td>\n",
              "      <td>0</td>\n",
              "      <td>1</td>\n",
              "      <td>0</td>\n",
              "      <td>8.0</td>\n",
              "      <td>26.0</td>\n",
              "      <td>1</td>\n",
              "      <td>0</td>\n",
              "      <td>3</td>\n",
              "      <td>2</td>\n",
              "      <td>5</td>\n",
              "    </tr>\n",
              "  </tbody>\n",
              "</table>\n",
              "</div>\n",
              "      <button class=\"colab-df-convert\" onclick=\"convertToInteractive('df-70cbf44d-67f2-4fd1-8408-abd8f8d2a2fb')\"\n",
              "              title=\"Convert this dataframe to an interactive table.\"\n",
              "              style=\"display:none;\">\n",
              "        \n",
              "  <svg xmlns=\"http://www.w3.org/2000/svg\" height=\"24px\"viewBox=\"0 0 24 24\"\n",
              "       width=\"24px\">\n",
              "    <path d=\"M0 0h24v24H0V0z\" fill=\"none\"/>\n",
              "    <path d=\"M18.56 5.44l.94 2.06.94-2.06 2.06-.94-2.06-.94-.94-2.06-.94 2.06-2.06.94zm-11 1L8.5 8.5l.94-2.06 2.06-.94-2.06-.94L8.5 2.5l-.94 2.06-2.06.94zm10 10l.94 2.06.94-2.06 2.06-.94-2.06-.94-.94-2.06-.94 2.06-2.06.94z\"/><path d=\"M17.41 7.96l-1.37-1.37c-.4-.4-.92-.59-1.43-.59-.52 0-1.04.2-1.43.59L10.3 9.45l-7.72 7.72c-.78.78-.78 2.05 0 2.83L4 21.41c.39.39.9.59 1.41.59.51 0 1.02-.2 1.41-.59l7.78-7.78 2.81-2.81c.8-.78.8-2.07 0-2.86zM5.41 20L4 18.59l7.72-7.72 1.47 1.35L5.41 20z\"/>\n",
              "  </svg>\n",
              "      </button>\n",
              "      \n",
              "  <style>\n",
              "    .colab-df-container {\n",
              "      display:flex;\n",
              "      flex-wrap:wrap;\n",
              "      gap: 12px;\n",
              "    }\n",
              "\n",
              "    .colab-df-convert {\n",
              "      background-color: #E8F0FE;\n",
              "      border: none;\n",
              "      border-radius: 50%;\n",
              "      cursor: pointer;\n",
              "      display: none;\n",
              "      fill: #1967D2;\n",
              "      height: 32px;\n",
              "      padding: 0 0 0 0;\n",
              "      width: 32px;\n",
              "    }\n",
              "\n",
              "    .colab-df-convert:hover {\n",
              "      background-color: #E2EBFA;\n",
              "      box-shadow: 0px 1px 2px rgba(60, 64, 67, 0.3), 0px 1px 3px 1px rgba(60, 64, 67, 0.15);\n",
              "      fill: #174EA6;\n",
              "    }\n",
              "\n",
              "    [theme=dark] .colab-df-convert {\n",
              "      background-color: #3B4455;\n",
              "      fill: #D2E3FC;\n",
              "    }\n",
              "\n",
              "    [theme=dark] .colab-df-convert:hover {\n",
              "      background-color: #434B5C;\n",
              "      box-shadow: 0px 1px 3px 1px rgba(0, 0, 0, 0.15);\n",
              "      filter: drop-shadow(0px 1px 2px rgba(0, 0, 0, 0.3));\n",
              "      fill: #FFFFFF;\n",
              "    }\n",
              "  </style>\n",
              "\n",
              "      <script>\n",
              "        const buttonEl =\n",
              "          document.querySelector('#df-70cbf44d-67f2-4fd1-8408-abd8f8d2a2fb button.colab-df-convert');\n",
              "        buttonEl.style.display =\n",
              "          google.colab.kernel.accessAllowed ? 'block' : 'none';\n",
              "\n",
              "        async function convertToInteractive(key) {\n",
              "          const element = document.querySelector('#df-70cbf44d-67f2-4fd1-8408-abd8f8d2a2fb');\n",
              "          const dataTable =\n",
              "            await google.colab.kernel.invokeFunction('convertToInteractive',\n",
              "                                                     [key], {});\n",
              "          if (!dataTable) return;\n",
              "\n",
              "          const docLinkHtml = 'Like what you see? Visit the ' +\n",
              "            '<a target=\"_blank\" href=https://colab.research.google.com/notebooks/data_table.ipynb>data table notebook</a>'\n",
              "            + ' to learn more about interactive tables.';\n",
              "          element.innerHTML = '';\n",
              "          dataTable['output_type'] = 'display_data';\n",
              "          await google.colab.output.renderOutput(dataTable, element);\n",
              "          const docLink = document.createElement('div');\n",
              "          docLink.innerHTML = docLinkHtml;\n",
              "          element.appendChild(docLink);\n",
              "        }\n",
              "      </script>\n",
              "    </div>\n",
              "  </div>\n",
              "  "
            ]
          },
          "metadata": {},
          "execution_count": 239
        }
      ]
    },
    {
      "cell_type": "code",
      "source": [
        "# The first preprocessing step is to divide the dataset into a feature set and corresponding labels. \n",
        "# The following script performs this task. The script below stores the feature sets into the X variable \n",
        "# and the series of corresponding labels in to the y variable.\n",
        "# \n",
        "X = df_ma.drop('year', 1)\n",
        "y = df_ma['cellphone']\n",
        "print(X)\n",
        "print('******************************************************************************************************')\n",
        "print(y)"
      ],
      "metadata": {
        "id": "Q0LQrLfEW8Ei",
        "colab": {
          "base_uri": "https://localhost:8080/"
        },
        "outputId": "5f5e2894-1448-4cf1-bdf6-e123cc7332cd"
      },
      "execution_count": 240,
      "outputs": [
        {
          "output_type": "stream",
          "name": "stdout",
          "text": [
            "       country  has_bankacc  location  cellphone  household_size   age  \\\n",
            "0            0            1         0          1             3.0  24.0   \n",
            "1            0            0         0          0             5.0  70.0   \n",
            "2            0            1         1          1             5.0  26.0   \n",
            "3            0            0         0          1             5.0  34.0   \n",
            "4            0            0         1          0             8.0  26.0   \n",
            "...        ...          ...       ...        ...             ...   ...   \n",
            "23519        3            0         0          1             4.0  48.0   \n",
            "23520        3            0         0          1             2.0  27.0   \n",
            "23521        3            0         0          1             5.0  27.0   \n",
            "23522        3            0         1          1             7.0  30.0   \n",
            "23523        3            0         0          1            10.0  20.0   \n",
            "\n",
            "       gender  r/ship_with_head  marital_status  level_of_education  \\\n",
            "0           0                 5               2                   3   \n",
            "1           0                 1               4                   0   \n",
            "2           1                 3               3                   5   \n",
            "3           0                 1               2                   2   \n",
            "4           1                 0               3                   2   \n",
            "...       ...               ...             ...                 ...   \n",
            "23519       0                 1               0                   0   \n",
            "23520       0                 1               3                   3   \n",
            "23521       0                 4               4                   2   \n",
            "23522       0                 4               0                   3   \n",
            "23523       1                 0               3                   3   \n",
            "\n",
            "       type_of_job  \n",
            "0                9  \n",
            "1                4  \n",
            "2                9  \n",
            "3                3  \n",
            "4                5  \n",
            "...            ...  \n",
            "23519            7  \n",
            "23520            7  \n",
            "23521            7  \n",
            "23522            9  \n",
            "23523            6  \n",
            "\n",
            "[23458 rows x 11 columns]\n",
            "******************************************************************************************************\n",
            "0        1\n",
            "1        0\n",
            "2        1\n",
            "3        1\n",
            "4        0\n",
            "        ..\n",
            "23519    1\n",
            "23520    1\n",
            "23521    1\n",
            "23522    1\n",
            "23523    1\n",
            "Name: cellphone, Length: 23458, dtype: int64\n"
          ]
        },
        {
          "output_type": "stream",
          "name": "stderr",
          "text": [
            "/usr/local/lib/python3.7/dist-packages/ipykernel_launcher.py:5: FutureWarning: In a future version of pandas all arguments of DataFrame.drop except for the argument 'labels' will be keyword-only\n",
            "  \"\"\"\n"
          ]
        }
      ]
    },
    {
      "cell_type": "code",
      "source": [
        "# Splitting the dataset into the Training set and Test set\n",
        "# The next preprocessing step is to divide data into training and test sets. \n",
        "\n",
        "\n",
        "X_train, X_test, y_train, y_test = train_test_split(X, y, test_size=0.2, random_state=0)\n",
        "X_train, X_test, y_train, y_test"
      ],
      "metadata": {
        "id": "RjT8NzmbW7_Y",
        "colab": {
          "base_uri": "https://localhost:8080/"
        },
        "outputId": "e53a43d9-d86b-44c8-ef29-293a6cef5dd3"
      },
      "execution_count": 241,
      "outputs": [
        {
          "output_type": "execute_result",
          "data": {
            "text/plain": [
              "(       country  has_bankacc  location  cellphone  household_size   age  \\\n",
              " 591          0            0         0          1             5.0  35.0   \n",
              " 13316        1            0         0          1             2.0  63.0   \n",
              " 5009         0            0         1          1             8.0  17.0   \n",
              " 13723        1            0         1          1             4.0  65.0   \n",
              " 7342         1            0         0          1             4.0  42.0   \n",
              " ...        ...          ...       ...        ...             ...   ...   \n",
              " 13138        1            0         0          1             7.0  31.0   \n",
              " 19691        2            1         1          1             2.0  68.0   \n",
              " 9854         1            0         0          1             5.0  18.0   \n",
              " 10812        1            1         0          1             1.0  57.0   \n",
              " 2734         0            0         1          1             3.0  25.0   \n",
              " \n",
              "        gender  r/ship_with_head  marital_status  level_of_education  \\\n",
              " 591         1                 1               2                   2   \n",
              " 13316       1                 1               0                   2   \n",
              " 5009        1                 0               3                   2   \n",
              " 13723       0                 1               4                   0   \n",
              " 7342        0                 1               2                   2   \n",
              " ...       ...               ...             ...                 ...   \n",
              " 13138       0                 5               2                   2   \n",
              " 19691       1                 1               3                   2   \n",
              " 9854        0                 3               3                   3   \n",
              " 10812       1                 1               0                   2   \n",
              " 2734        0                 5               2                   2   \n",
              " \n",
              "        type_of_job  \n",
              " 591              2  \n",
              " 13316            9  \n",
              " 5009             8  \n",
              " 13723            1  \n",
              " 7342             5  \n",
              " ...            ...  \n",
              " 13138            9  \n",
              " 19691            4  \n",
              " 9854             8  \n",
              " 10812            7  \n",
              " 2734             5  \n",
              " \n",
              " [18766 rows x 11 columns],\n",
              "        country  has_bankacc  location  cellphone  household_size   age  \\\n",
              " 11870        1            1         1          1             4.0  65.0   \n",
              " 22502        3            0         0          1             1.0  37.0   \n",
              " 19548        2            0         1          1             3.0  38.0   \n",
              " 12094        1            0         0          1             3.0  62.0   \n",
              " 14132        1            0         0          1             4.0  27.0   \n",
              " ...        ...          ...       ...        ...             ...   ...   \n",
              " 1275         0            0         0          1             6.0  41.0   \n",
              " 14340        1            0         0          0             6.0  17.0   \n",
              " 13060        1            0         0          1             3.0  77.0   \n",
              " 18333        2            1         0          1             2.0  24.0   \n",
              " 1782         0            0         1          0             6.0  21.0   \n",
              " \n",
              "        gender  r/ship_with_head  marital_status  level_of_education  \\\n",
              " 11870       1                 1               4                   3   \n",
              " 22502       1                 1               2                   0   \n",
              " 19548       1                 1               3                   2   \n",
              " 12094       1                 1               2                   0   \n",
              " 14132       0                 0               3                   3   \n",
              " ...       ...               ...             ...                 ...   \n",
              " 1275        0                 5               2                   2   \n",
              " 14340       0                 0               3                   2   \n",
              " 13060       0                 1               4                   0   \n",
              " 18333       0                 5               3                   4   \n",
              " 1782        1                 0               3                   3   \n",
              " \n",
              "        type_of_job  \n",
              " 11870            7  \n",
              " 22502            9  \n",
              " 19548            9  \n",
              " 12094            1  \n",
              " 14132            3  \n",
              " ...            ...  \n",
              " 1275             9  \n",
              " 14340            5  \n",
              " 13060            8  \n",
              " 18333            8  \n",
              " 1782             8  \n",
              " \n",
              " [4692 rows x 11 columns],\n",
              " 591      1\n",
              " 13316    1\n",
              " 5009     1\n",
              " 13723    1\n",
              " 7342     1\n",
              "         ..\n",
              " 13138    1\n",
              " 19691    1\n",
              " 9854     1\n",
              " 10812    1\n",
              " 2734     1\n",
              " Name: cellphone, Length: 18766, dtype: int64,\n",
              " 11870    1\n",
              " 22502    1\n",
              " 19548    1\n",
              " 12094    1\n",
              " 14132    1\n",
              "         ..\n",
              " 1275     1\n",
              " 14340    0\n",
              " 13060    1\n",
              " 18333    1\n",
              " 1782     0\n",
              " Name: cellphone, Length: 4692, dtype: int64)"
            ]
          },
          "metadata": {},
          "execution_count": 241
        }
      ]
    },
    {
      "cell_type": "code",
      "source": [
        "from sklearn.preprocessing import StandardScaler\n",
        "\n",
        "sc = StandardScaler()\n",
        "X_train = sc.fit_transform(X_train)\n",
        "X_test = sc.transform(X_test)"
      ],
      "metadata": {
        "id": "0eemHcbdJ1yp"
      },
      "execution_count": 242,
      "outputs": []
    },
    {
      "cell_type": "code",
      "source": [],
      "metadata": {
        "id": "Aqe2pggJJ1sJ"
      },
      "execution_count": 242,
      "outputs": []
    },
    {
      "cell_type": "code",
      "source": [],
      "metadata": {
        "id": "TprZvhz3J1ok"
      },
      "execution_count": 242,
      "outputs": []
    },
    {
      "cell_type": "code",
      "source": [],
      "metadata": {
        "id": "HqlrKB2oJ1kN"
      },
      "execution_count": 242,
      "outputs": []
    },
    {
      "cell_type": "code",
      "source": [],
      "metadata": {
        "id": "t66sVhExJ1g5"
      },
      "execution_count": 242,
      "outputs": []
    },
    {
      "cell_type": "markdown",
      "source": [
        "#### Linear Discriminant Analysis"
      ],
      "metadata": {
        "id": "76W5buBhDtjE"
      }
    },
    {
      "cell_type": "code",
      "source": [],
      "metadata": {
        "id": "LiHSO8wELfTC"
      },
      "execution_count": 242,
      "outputs": []
    },
    {
      "cell_type": "code",
      "source": [],
      "metadata": {
        "id": "qFih5GQzLfPS"
      },
      "execution_count": 242,
      "outputs": []
    },
    {
      "cell_type": "code",
      "source": [],
      "metadata": {
        "id": "7gio6qUBLfL6"
      },
      "execution_count": 242,
      "outputs": []
    },
    {
      "cell_type": "markdown",
      "source": [
        "##**[7] IMPLEMENTING THE SOLUTION**"
      ],
      "metadata": {
        "id": "EWc2AJTRRoIk"
      }
    },
    {
      "cell_type": "markdown",
      "source": [
        "##**[8] CHALLENGING THE SOLUTION**"
      ],
      "metadata": {
        "id": "VLYiOVh1Rn7E"
      }
    },
    {
      "cell_type": "markdown",
      "source": [
        "##**[9] FOLLOW-UP QUESTIONS**"
      ],
      "metadata": {
        "id": "SUxAAQITTRud"
      }
    }
  ]
}